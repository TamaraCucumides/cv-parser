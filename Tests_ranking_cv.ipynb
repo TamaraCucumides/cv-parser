{
 "cells": [
  {
   "cell_type": "code",
   "execution_count": 8,
   "metadata": {},
   "outputs": [],
   "source": [
    "import re\n",
    "import math\n",
    "import fitz\n",
    "import nltk\n",
    "from nltk.tokenize import sent_tokenize, word_tokenize\n",
    "from spacy.matcher import Matcher\n",
    "import pandas as pd\n",
    "from nltk.stem import WordNetLemmatizer\n",
    "from nltk.corpus import stopwords \n",
    "import es_core_news_sm\n",
    "from nltk.tokenize import sent_tokenize\n",
    "import os\n",
    "import spacy\n",
    "from sklearn.feature_extraction.text import CountVectorizer\n",
    "import es_core_news_sm\n",
    "import itertools\n",
    "from nltk.stem import SnowballStemmer\n",
    "import textacy\n",
    "import regex\n",
    "import json\n",
    "import unidecode\n",
    "import numpy as np\n",
    "from gensim.models.keyedvectors import KeyedVectors\n",
    "wordvectors_file_vec ='/home/erwin/Genoma/cv-parser/fasttext-sbwc.3.6.e20.vec'"
   ]
  },
  {
   "cell_type": "code",
   "execution_count": 44,
   "metadata": {},
   "outputs": [],
   "source": [
    "cantidad = 100000\n",
    "\n",
    "model = KeyedVectors.load_word2vec_format(wordvectors_file_vec, limit=cantidad)"
   ]
  },
  {
   "cell_type": "code",
   "execution_count": 45,
   "metadata": {},
   "outputs": [],
   "source": [
    "path_to_json = 'output_seccionado/'\n",
    "json_files = [pos_json for pos_json in os.listdir(path_to_json) if pos_json.endswith('.json')]\n",
    "#print(json_files)  # for me this prints ['foo.json']\n",
    "jsons = []\n",
    "for index, js in enumerate(json_files):\n",
    "    with open(os.path.join(path_to_json, js)) as json_file:\n",
    "        jsons.append(json.load(json_file))"
   ]
  },
  {
   "cell_type": "code",
   "execution_count": 46,
   "metadata": {},
   "outputs": [],
   "source": [
    "def sent2vec(s):\n",
    "    '''Generate Vectora for sentences.'''\n",
    "    M = []\n",
    "    for w in s.split():\n",
    "        try:\n",
    "            M.append(model[w])\n",
    "        except:\n",
    "            continue\n",
    "    M = np.array(M)\n",
    "    v = M.sum(axis=0)\n",
    "    return v/np.sqrt((v**2).sum())\n",
    "\n",
    "def cosine_sim(vec1, vec2):\n",
    "    '''Return Cosine Similarity.'''\n",
    "    return  np.dot(vec1,vec2)/(np.linalg.norm(vec1)* np.linalg.norm(vec2))\n",
    "\n",
    "def get_closest(word, n):\n",
    "    '''Get n most similar words by words.'''\n",
    "    #This function can easily be expanded to get similar words to phrases--\n",
    "    #using sent2vec() method defined in WithWord2Vec notebook. \n",
    "    word = word.lower()\n",
    "    words = [word]\n",
    "    similar_vals = [1]\n",
    "    try:\n",
    "        similar_list = model.most_similar(positive=[word],topn=n)\n",
    "        \n",
    "        for tupl in similar_list:\n",
    "            words.append(tupl[0])\n",
    "            similar_vals.append(tupl[1])\n",
    "    except:\n",
    "        #If word not in vocabulary return same word and 1 similarity-- \n",
    "        #see initialisation of words, similarities.\n",
    "        pass\n",
    "    \n",
    "    return words, similar_vals"
   ]
  },
  {
   "cell_type": "code",
   "execution_count": 47,
   "metadata": {
    "tags": []
   },
   "outputs": [
    {
     "name": "stdout",
     "output_type": "stream",
     "text": [
      "0.8897964\n"
     ]
    }
   ],
   "source": [
    "frase_1 = 'software developer'\n",
    "frase_2 = 'web developer'\n",
    "\n",
    "\n",
    "vector_sentence_1 = sent2vec(frase_1)\n",
    "vector_sentence_2 = sent2vec(frase_2)\n",
    "similitud = cosine_sim(vector_sentence_1,vector_sentence_2)\n",
    "\n",
    "print(similitud)"
   ]
  },
  {
   "cell_type": "code",
   "execution_count": 48,
   "metadata": {},
   "outputs": [
    {
     "data": {
      "text/plain": [
       "(['solidaridad', 'solidaria', 'insolidaridad', 'solidario'],\n",
       " [1, 0.5968679189682007, 0.5851333141326904, 0.5850723385810852])"
      ]
     },
     "execution_count": 48,
     "metadata": {},
     "output_type": "execute_result"
    }
   ],
   "source": [
    "get_closest(word= 'solidaridad', n = 3)"
   ]
  },
  {
   "cell_type": "code",
   "execution_count": 49,
   "metadata": {},
   "outputs": [
    {
     "data": {
      "text/plain": [
       "0.49962938"
      ]
     },
     "execution_count": 49,
     "metadata": {},
     "output_type": "execute_result"
    }
   ],
   "source": [
    "model.similarity('educación', 'educar')"
   ]
  },
  {
   "cell_type": "code",
   "execution_count": 50,
   "metadata": {},
   "outputs": [
    {
     "data": {
      "text/plain": [
       "'educar'"
      ]
     },
     "execution_count": 50,
     "metadata": {},
     "output_type": "execute_result"
    }
   ],
   "source": [
    "import es_core_news_md\n",
    "nlp = es_core_news_md.load()\n",
    "nlp_text = nlp('educado')\n",
    "nlp_text[0].lemma_"
   ]
  },
  {
   "cell_type": "code",
   "execution_count": 83,
   "metadata": {},
   "outputs": [],
   "source": [
    "jsons[i]['experiencia'].count(word)"
   ]
  },
  {
   "cell_type": "code",
   "execution_count": 94,
   "metadata": {},
   "outputs": [],
   "source": [
    "prc_description = '''ingeniería máster python excel desarrollo gestión comercial experiencia manejo clientes\n",
    "emprendimiento liderar equipos planificar organizar '''"
   ]
  },
  {
   "cell_type": "code",
   "execution_count": 95,
   "metadata": {},
   "outputs": [],
   "source": [
    "# https://github.com/prateekguptaiiitk/Resume_Filtering/blob/develop/Scoring/CV_ranking.ipynb\n",
    "word_value = {}\n",
    "similar_words_needed = 2\n",
    "for word in prc_description.split():\n",
    "    similar_words, similarity = get_closest(word, similar_words_needed)\n",
    "    for i in range(len(similar_words)):\n",
    "        word_value[similar_words[i]] = word_value.get(similar_words[i], 0)+similarity[i]\n",
    "        #print(similar_words[i], word_value[similar_words[i]])\n",
    "        #print('------------------------------------------------')"
   ]
  },
  {
   "cell_type": "code",
   "execution_count": 102,
   "metadata": {},
   "outputs": [
    {
     "data": {
      "text/plain": [
       "dict_keys(['ingeniería', 'ingenierías', 'mecatrónica', 'máster', 'másteres', 'licenciatura', 'python', 'perl', 'scripts', 'excel', 'powerpoint', 'word', 'desarrollo', 'sostenible', 'socioeconómico', 'gestión', 'gestionar', 'planificación', 'comercial', 'comerciales', 'comercio', 'experiencia', 'experiencias', 'pericia', 'manejo', 'manejar', 'manejan', 'clientes', 'cliente', 'usuarios', 'emprendimiento', 'emprendimientos', 'emprendedor', 'liderar', 'encabezar', 'lidera', 'equipos', 'equipo', 'clubes', 'planificar', 'planear', 'planificarse', 'organizar', 'organizarlo'])"
      ]
     },
     "execution_count": 102,
     "metadata": {},
     "output_type": "execute_result"
    }
   ],
   "source": [
    "word_value.keys()"
   ]
  },
  {
   "cell_type": "code",
   "execution_count": 103,
   "metadata": {},
   "outputs": [
    {
     "data": {
      "text/plain": [
       "False"
      ]
     },
     "execution_count": 103,
     "metadata": {},
     "output_type": "execute_result"
    }
   ],
   "source": [
    "'Licencia' in jsons[1]['skills']"
   ]
  },
  {
   "cell_type": "code",
   "execution_count": 104,
   "metadata": {},
   "outputs": [
    {
     "name": "stdout",
     "output_type": "stream",
     "text": [
      "34\n",
      "{'ingeniería': 2.833213344056216}\n",
      "{'ingeniería': 2.833213344056216, 'ingenierías': 3.5263605246161616}\n",
      "{'ingeniería': 2.833213344056216, 'ingenierías': 3.5263605246161616, 'mecatrónica': 3.5263605246161616}\n",
      "{'ingeniería': 2.833213344056216, 'ingenierías': 3.5263605246161616, 'mecatrónica': 3.5263605246161616, 'máster': 3.5263605246161616}\n",
      "{'ingeniería': 2.833213344056216, 'ingenierías': 3.5263605246161616, 'mecatrónica': 3.5263605246161616, 'máster': 3.5263605246161616, 'másteres': 3.5263605246161616}\n",
      "{'ingeniería': 2.833213344056216, 'ingenierías': 3.5263605246161616, 'mecatrónica': 3.5263605246161616, 'máster': 3.5263605246161616, 'másteres': 3.5263605246161616, 'licenciatura': 3.5263605246161616}\n",
      "{'ingeniería': 2.833213344056216, 'ingenierías': 3.5263605246161616, 'mecatrónica': 3.5263605246161616, 'máster': 3.5263605246161616, 'másteres': 3.5263605246161616, 'licenciatura': 3.5263605246161616, 'python': 3.5263605246161616}\n",
      "{'ingeniería': 2.833213344056216, 'ingenierías': 3.5263605246161616, 'mecatrónica': 3.5263605246161616, 'máster': 3.5263605246161616, 'másteres': 3.5263605246161616, 'licenciatura': 3.5263605246161616, 'python': 3.5263605246161616, 'perl': 3.5263605246161616}\n",
      "{'ingeniería': 2.833213344056216, 'ingenierías': 3.5263605246161616, 'mecatrónica': 3.5263605246161616, 'máster': 3.5263605246161616, 'másteres': 3.5263605246161616, 'licenciatura': 3.5263605246161616, 'python': 3.5263605246161616, 'perl': 3.5263605246161616, 'scripts': 3.5263605246161616}\n",
      "{'ingeniería': 2.833213344056216, 'ingenierías': 3.5263605246161616, 'mecatrónica': 3.5263605246161616, 'máster': 3.5263605246161616, 'másteres': 3.5263605246161616, 'licenciatura': 3.5263605246161616, 'python': 3.5263605246161616, 'perl': 3.5263605246161616, 'scripts': 3.5263605246161616, 'excel': 2.833213344056216}\n",
      "{'ingeniería': 2.833213344056216, 'ingenierías': 3.5263605246161616, 'mecatrónica': 3.5263605246161616, 'máster': 3.5263605246161616, 'másteres': 3.5263605246161616, 'licenciatura': 3.5263605246161616, 'python': 3.5263605246161616, 'perl': 3.5263605246161616, 'scripts': 3.5263605246161616, 'excel': 2.833213344056216, 'powerpoint': 3.5263605246161616}\n",
      "{'ingeniería': 2.833213344056216, 'ingenierías': 3.5263605246161616, 'mecatrónica': 3.5263605246161616, 'máster': 3.5263605246161616, 'másteres': 3.5263605246161616, 'licenciatura': 3.5263605246161616, 'python': 3.5263605246161616, 'perl': 3.5263605246161616, 'scripts': 3.5263605246161616, 'excel': 2.833213344056216, 'powerpoint': 3.5263605246161616, 'word': 3.5263605246161616}\n",
      "{'ingeniería': 2.833213344056216, 'ingenierías': 3.5263605246161616, 'mecatrónica': 3.5263605246161616, 'máster': 3.5263605246161616, 'másteres': 3.5263605246161616, 'licenciatura': 3.5263605246161616, 'python': 3.5263605246161616, 'perl': 3.5263605246161616, 'scripts': 3.5263605246161616, 'excel': 2.833213344056216, 'powerpoint': 3.5263605246161616, 'word': 3.5263605246161616, 'desarrollo': 2.833213344056216}\n",
      "{'ingeniería': 2.833213344056216, 'ingenierías': 3.5263605246161616, 'mecatrónica': 3.5263605246161616, 'máster': 3.5263605246161616, 'másteres': 3.5263605246161616, 'licenciatura': 3.5263605246161616, 'python': 3.5263605246161616, 'perl': 3.5263605246161616, 'scripts': 3.5263605246161616, 'excel': 2.833213344056216, 'powerpoint': 3.5263605246161616, 'word': 3.5263605246161616, 'desarrollo': 2.833213344056216, 'sostenible': 3.5263605246161616}\n",
      "{'ingeniería': 2.833213344056216, 'ingenierías': 3.5263605246161616, 'mecatrónica': 3.5263605246161616, 'máster': 3.5263605246161616, 'másteres': 3.5263605246161616, 'licenciatura': 3.5263605246161616, 'python': 3.5263605246161616, 'perl': 3.5263605246161616, 'scripts': 3.5263605246161616, 'excel': 2.833213344056216, 'powerpoint': 3.5263605246161616, 'word': 3.5263605246161616, 'desarrollo': 2.833213344056216, 'sostenible': 3.5263605246161616, 'socioeconómico': 3.5263605246161616}\n",
      "{'ingeniería': 2.833213344056216, 'ingenierías': 3.5263605246161616, 'mecatrónica': 3.5263605246161616, 'máster': 3.5263605246161616, 'másteres': 3.5263605246161616, 'licenciatura': 3.5263605246161616, 'python': 3.5263605246161616, 'perl': 3.5263605246161616, 'scripts': 3.5263605246161616, 'excel': 2.833213344056216, 'powerpoint': 3.5263605246161616, 'word': 3.5263605246161616, 'desarrollo': 2.833213344056216, 'sostenible': 3.5263605246161616, 'socioeconómico': 3.5263605246161616, 'gestión': 0.4818380868927384}\n",
      "{'ingeniería': 2.833213344056216, 'ingenierías': 3.5263605246161616, 'mecatrónica': 3.5263605246161616, 'máster': 3.5263605246161616, 'másteres': 3.5263605246161616, 'licenciatura': 3.5263605246161616, 'python': 3.5263605246161616, 'perl': 3.5263605246161616, 'scripts': 3.5263605246161616, 'excel': 2.833213344056216, 'powerpoint': 3.5263605246161616, 'word': 3.5263605246161616, 'desarrollo': 2.833213344056216, 'sostenible': 3.5263605246161616, 'socioeconómico': 3.5263605246161616, 'gestión': 0.4818380868927384, 'gestionar': 1.916922612182061}\n",
      "{'ingeniería': 2.833213344056216, 'ingenierías': 3.5263605246161616, 'mecatrónica': 3.5263605246161616, 'máster': 3.5263605246161616, 'másteres': 3.5263605246161616, 'licenciatura': 3.5263605246161616, 'python': 3.5263605246161616, 'perl': 3.5263605246161616, 'scripts': 3.5263605246161616, 'excel': 2.833213344056216, 'powerpoint': 3.5263605246161616, 'word': 3.5263605246161616, 'desarrollo': 2.833213344056216, 'sostenible': 3.5263605246161616, 'socioeconómico': 3.5263605246161616, 'gestión': 0.4818380868927384, 'gestionar': 1.916922612182061, 'planificación': 1.916922612182061}\n",
      "{'ingeniería': 2.833213344056216, 'ingenierías': 3.5263605246161616, 'mecatrónica': 3.5263605246161616, 'máster': 3.5263605246161616, 'másteres': 3.5263605246161616, 'licenciatura': 3.5263605246161616, 'python': 3.5263605246161616, 'perl': 3.5263605246161616, 'scripts': 3.5263605246161616, 'excel': 2.833213344056216, 'powerpoint': 3.5263605246161616, 'word': 3.5263605246161616, 'desarrollo': 2.833213344056216, 'sostenible': 3.5263605246161616, 'socioeconómico': 3.5263605246161616, 'gestión': 0.4818380868927384, 'gestionar': 1.916922612182061, 'planificación': 1.916922612182061, 'comercial': 0.26826398659467937}\n",
      "{'ingeniería': 2.833213344056216, 'ingenierías': 3.5263605246161616, 'mecatrónica': 3.5263605246161616, 'máster': 3.5263605246161616, 'másteres': 3.5263605246161616, 'licenciatura': 3.5263605246161616, 'python': 3.5263605246161616, 'perl': 3.5263605246161616, 'scripts': 3.5263605246161616, 'excel': 2.833213344056216, 'powerpoint': 3.5263605246161616, 'word': 3.5263605246161616, 'desarrollo': 2.833213344056216, 'sostenible': 3.5263605246161616, 'socioeconómico': 3.5263605246161616, 'gestión': 0.4818380868927384, 'gestionar': 1.916922612182061, 'planificación': 1.916922612182061, 'comercial': 0.26826398659467937, 'comerciales': 3.5263605246161616}\n",
      "{'ingeniería': 2.833213344056216, 'ingenierías': 3.5263605246161616, 'mecatrónica': 3.5263605246161616, 'máster': 3.5263605246161616, 'másteres': 3.5263605246161616, 'licenciatura': 3.5263605246161616, 'python': 3.5263605246161616, 'perl': 3.5263605246161616, 'scripts': 3.5263605246161616, 'excel': 2.833213344056216, 'powerpoint': 3.5263605246161616, 'word': 3.5263605246161616, 'desarrollo': 2.833213344056216, 'sostenible': 3.5263605246161616, 'socioeconómico': 3.5263605246161616, 'gestión': 0.4818380868927384, 'gestionar': 1.916922612182061, 'planificación': 1.916922612182061, 'comercial': 0.26826398659467937, 'comerciales': 3.5263605246161616, 'comercio': 3.5263605246161616}\n",
      "{'ingeniería': 2.833213344056216, 'ingenierías': 3.5263605246161616, 'mecatrónica': 3.5263605246161616, 'máster': 3.5263605246161616, 'másteres': 3.5263605246161616, 'licenciatura': 3.5263605246161616, 'python': 3.5263605246161616, 'perl': 3.5263605246161616, 'scripts': 3.5263605246161616, 'excel': 2.833213344056216, 'powerpoint': 3.5263605246161616, 'word': 3.5263605246161616, 'desarrollo': 2.833213344056216, 'sostenible': 3.5263605246161616, 'socioeconómico': 3.5263605246161616, 'gestión': 0.4818380868927384, 'gestionar': 1.916922612182061, 'planificación': 1.916922612182061, 'comercial': 0.26826398659467937, 'comerciales': 3.5263605246161616, 'comercio': 3.5263605246161616, 'experiencia': 0.7537718023763802}\n",
      "{'ingeniería': 2.833213344056216, 'ingenierías': 3.5263605246161616, 'mecatrónica': 3.5263605246161616, 'máster': 3.5263605246161616, 'másteres': 3.5263605246161616, 'licenciatura': 3.5263605246161616, 'python': 3.5263605246161616, 'perl': 3.5263605246161616, 'scripts': 3.5263605246161616, 'excel': 2.833213344056216, 'powerpoint': 3.5263605246161616, 'word': 3.5263605246161616, 'desarrollo': 2.833213344056216, 'sostenible': 3.5263605246161616, 'socioeconómico': 3.5263605246161616, 'gestión': 0.4818380868927384, 'gestionar': 1.916922612182061, 'planificación': 1.916922612182061, 'comercial': 0.26826398659467937, 'comerciales': 3.5263605246161616, 'comercio': 3.5263605246161616, 'experiencia': 0.7537718023763802, 'experiencias': 3.5263605246161616}\n",
      "{'ingeniería': 2.833213344056216, 'ingenierías': 3.5263605246161616, 'mecatrónica': 3.5263605246161616, 'máster': 3.5263605246161616, 'másteres': 3.5263605246161616, 'licenciatura': 3.5263605246161616, 'python': 3.5263605246161616, 'perl': 3.5263605246161616, 'scripts': 3.5263605246161616, 'excel': 2.833213344056216, 'powerpoint': 3.5263605246161616, 'word': 3.5263605246161616, 'desarrollo': 2.833213344056216, 'sostenible': 3.5263605246161616, 'socioeconómico': 3.5263605246161616, 'gestión': 0.4818380868927384, 'gestionar': 1.916922612182061, 'planificación': 1.916922612182061, 'comercial': 0.26826398659467937, 'comerciales': 3.5263605246161616, 'comercio': 3.5263605246161616, 'experiencia': 0.7537718023763802, 'experiencias': 3.5263605246161616, 'pericia': 3.5263605246161616}\n",
      "{'ingeniería': 2.833213344056216, 'ingenierías': 3.5263605246161616, 'mecatrónica': 3.5263605246161616, 'máster': 3.5263605246161616, 'másteres': 3.5263605246161616, 'licenciatura': 3.5263605246161616, 'python': 3.5263605246161616, 'perl': 3.5263605246161616, 'scripts': 3.5263605246161616, 'excel': 2.833213344056216, 'powerpoint': 3.5263605246161616, 'word': 3.5263605246161616, 'desarrollo': 2.833213344056216, 'sostenible': 3.5263605246161616, 'socioeconómico': 3.5263605246161616, 'gestión': 0.4818380868927384, 'gestionar': 1.916922612182061, 'planificación': 1.916922612182061, 'comercial': 0.26826398659467937, 'comerciales': 3.5263605246161616, 'comercio': 3.5263605246161616, 'experiencia': 0.7537718023763802, 'experiencias': 3.5263605246161616, 'pericia': 3.5263605246161616, 'manejo': 3.5263605246161616}\n",
      "{'ingeniería': 2.833213344056216, 'ingenierías': 3.5263605246161616, 'mecatrónica': 3.5263605246161616, 'máster': 3.5263605246161616, 'másteres': 3.5263605246161616, 'licenciatura': 3.5263605246161616, 'python': 3.5263605246161616, 'perl': 3.5263605246161616, 'scripts': 3.5263605246161616, 'excel': 2.833213344056216, 'powerpoint': 3.5263605246161616, 'word': 3.5263605246161616, 'desarrollo': 2.833213344056216, 'sostenible': 3.5263605246161616, 'socioeconómico': 3.5263605246161616, 'gestión': 0.4818380868927384, 'gestionar': 1.916922612182061, 'planificación': 1.916922612182061, 'comercial': 0.26826398659467937, 'comerciales': 3.5263605246161616, 'comercio': 3.5263605246161616, 'experiencia': 0.7537718023763802, 'experiencias': 3.5263605246161616, 'pericia': 3.5263605246161616, 'manejo': 3.5263605246161616, 'manejar': 0.8873031950009027}\n",
      "{'ingeniería': 2.833213344056216, 'ingenierías': 3.5263605246161616, 'mecatrónica': 3.5263605246161616, 'máster': 3.5263605246161616, 'másteres': 3.5263605246161616, 'licenciatura': 3.5263605246161616, 'python': 3.5263605246161616, 'perl': 3.5263605246161616, 'scripts': 3.5263605246161616, 'excel': 2.833213344056216, 'powerpoint': 3.5263605246161616, 'word': 3.5263605246161616, 'desarrollo': 2.833213344056216, 'sostenible': 3.5263605246161616, 'socioeconómico': 3.5263605246161616, 'gestión': 0.4818380868927384, 'gestionar': 1.916922612182061, 'planificación': 1.916922612182061, 'comercial': 0.26826398659467937, 'comerciales': 3.5263605246161616, 'comercio': 3.5263605246161616, 'experiencia': 0.7537718023763802, 'experiencias': 3.5263605246161616, 'pericia': 3.5263605246161616, 'manejo': 3.5263605246161616, 'manejar': 0.8873031950009027, 'manejan': 3.5263605246161616}\n",
      "{'ingeniería': 2.833213344056216, 'ingenierías': 3.5263605246161616, 'mecatrónica': 3.5263605246161616, 'máster': 3.5263605246161616, 'másteres': 3.5263605246161616, 'licenciatura': 3.5263605246161616, 'python': 3.5263605246161616, 'perl': 3.5263605246161616, 'scripts': 3.5263605246161616, 'excel': 2.833213344056216, 'powerpoint': 3.5263605246161616, 'word': 3.5263605246161616, 'desarrollo': 2.833213344056216, 'sostenible': 3.5263605246161616, 'socioeconómico': 3.5263605246161616, 'gestión': 0.4818380868927384, 'gestionar': 1.916922612182061, 'planificación': 1.916922612182061, 'comercial': 0.26826398659467937, 'comerciales': 3.5263605246161616, 'comercio': 3.5263605246161616, 'experiencia': 0.7537718023763802, 'experiencias': 3.5263605246161616, 'pericia': 3.5263605246161616, 'manejo': 3.5263605246161616, 'manejar': 0.8873031950009027, 'manejan': 3.5263605246161616, 'clientes': 3.5263605246161616}\n",
      "{'ingeniería': 2.833213344056216, 'ingenierías': 3.5263605246161616, 'mecatrónica': 3.5263605246161616, 'máster': 3.5263605246161616, 'másteres': 3.5263605246161616, 'licenciatura': 3.5263605246161616, 'python': 3.5263605246161616, 'perl': 3.5263605246161616, 'scripts': 3.5263605246161616, 'excel': 2.833213344056216, 'powerpoint': 3.5263605246161616, 'word': 3.5263605246161616, 'desarrollo': 2.833213344056216, 'sostenible': 3.5263605246161616, 'socioeconómico': 3.5263605246161616, 'gestión': 0.4818380868927384, 'gestionar': 1.916922612182061, 'planificación': 1.916922612182061, 'comercial': 0.26826398659467937, 'comerciales': 3.5263605246161616, 'comercio': 3.5263605246161616, 'experiencia': 0.7537718023763802, 'experiencias': 3.5263605246161616, 'pericia': 3.5263605246161616, 'manejo': 3.5263605246161616, 'manejar': 0.8873031950009027, 'manejan': 3.5263605246161616, 'clientes': 3.5263605246161616, 'cliente': 0.3074846997479607}\n",
      "{'ingeniería': 2.833213344056216, 'ingenierías': 3.5263605246161616, 'mecatrónica': 3.5263605246161616, 'máster': 3.5263605246161616, 'másteres': 3.5263605246161616, 'licenciatura': 3.5263605246161616, 'python': 3.5263605246161616, 'perl': 3.5263605246161616, 'scripts': 3.5263605246161616, 'excel': 2.833213344056216, 'powerpoint': 3.5263605246161616, 'word': 3.5263605246161616, 'desarrollo': 2.833213344056216, 'sostenible': 3.5263605246161616, 'socioeconómico': 3.5263605246161616, 'gestión': 0.4818380868927384, 'gestionar': 1.916922612182061, 'planificación': 1.916922612182061, 'comercial': 0.26826398659467937, 'comerciales': 3.5263605246161616, 'comercio': 3.5263605246161616, 'experiencia': 0.7537718023763802, 'experiencias': 3.5263605246161616, 'pericia': 3.5263605246161616, 'manejo': 3.5263605246161616, 'manejar': 0.8873031950009027, 'manejan': 3.5263605246161616, 'clientes': 3.5263605246161616, 'cliente': 0.3074846997479607, 'usuarios': 3.5263605246161616}\n",
      "{'ingeniería': 2.833213344056216, 'ingenierías': 3.5263605246161616, 'mecatrónica': 3.5263605246161616, 'máster': 3.5263605246161616, 'másteres': 3.5263605246161616, 'licenciatura': 3.5263605246161616, 'python': 3.5263605246161616, 'perl': 3.5263605246161616, 'scripts': 3.5263605246161616, 'excel': 2.833213344056216, 'powerpoint': 3.5263605246161616, 'word': 3.5263605246161616, 'desarrollo': 2.833213344056216, 'sostenible': 3.5263605246161616, 'socioeconómico': 3.5263605246161616, 'gestión': 0.4818380868927384, 'gestionar': 1.916922612182061, 'planificación': 1.916922612182061, 'comercial': 0.26826398659467937, 'comerciales': 3.5263605246161616, 'comercio': 3.5263605246161616, 'experiencia': 0.7537718023763802, 'experiencias': 3.5263605246161616, 'pericia': 3.5263605246161616, 'manejo': 3.5263605246161616, 'manejar': 0.8873031950009027, 'manejan': 3.5263605246161616, 'clientes': 3.5263605246161616, 'cliente': 0.3074846997479607, 'usuarios': 3.5263605246161616, 'emprendimiento': 3.5263605246161616}\n",
      "{'ingeniería': 2.833213344056216, 'ingenierías': 3.5263605246161616, 'mecatrónica': 3.5263605246161616, 'máster': 3.5263605246161616, 'másteres': 3.5263605246161616, 'licenciatura': 3.5263605246161616, 'python': 3.5263605246161616, 'perl': 3.5263605246161616, 'scripts': 3.5263605246161616, 'excel': 2.833213344056216, 'powerpoint': 3.5263605246161616, 'word': 3.5263605246161616, 'desarrollo': 2.833213344056216, 'sostenible': 3.5263605246161616, 'socioeconómico': 3.5263605246161616, 'gestión': 0.4818380868927384, 'gestionar': 1.916922612182061, 'planificación': 1.916922612182061, 'comercial': 0.26826398659467937, 'comerciales': 3.5263605246161616, 'comercio': 3.5263605246161616, 'experiencia': 0.7537718023763802, 'experiencias': 3.5263605246161616, 'pericia': 3.5263605246161616, 'manejo': 3.5263605246161616, 'manejar': 0.8873031950009027, 'manejan': 3.5263605246161616, 'clientes': 3.5263605246161616, 'cliente': 0.3074846997479607, 'usuarios': 3.5263605246161616, 'emprendimiento': 3.5263605246161616, 'emprendimientos': 3.5263605246161616}\n",
      "{'ingeniería': 2.833213344056216, 'ingenierías': 3.5263605246161616, 'mecatrónica': 3.5263605246161616, 'máster': 3.5263605246161616, 'másteres': 3.5263605246161616, 'licenciatura': 3.5263605246161616, 'python': 3.5263605246161616, 'perl': 3.5263605246161616, 'scripts': 3.5263605246161616, 'excel': 2.833213344056216, 'powerpoint': 3.5263605246161616, 'word': 3.5263605246161616, 'desarrollo': 2.833213344056216, 'sostenible': 3.5263605246161616, 'socioeconómico': 3.5263605246161616, 'gestión': 0.4818380868927384, 'gestionar': 1.916922612182061, 'planificación': 1.916922612182061, 'comercial': 0.26826398659467937, 'comerciales': 3.5263605246161616, 'comercio': 3.5263605246161616, 'experiencia': 0.7537718023763802, 'experiencias': 3.5263605246161616, 'pericia': 3.5263605246161616, 'manejo': 3.5263605246161616, 'manejar': 0.8873031950009027, 'manejan': 3.5263605246161616, 'clientes': 3.5263605246161616, 'cliente': 0.3074846997479607, 'usuarios': 3.5263605246161616, 'emprendimiento': 3.5263605246161616, 'emprendimientos': 3.5263605246161616, 'emprendedor': 3.5263605246161616}\n",
      "{'ingeniería': 2.833213344056216, 'ingenierías': 3.5263605246161616, 'mecatrónica': 3.5263605246161616, 'máster': 3.5263605246161616, 'másteres': 3.5263605246161616, 'licenciatura': 3.5263605246161616, 'python': 3.5263605246161616, 'perl': 3.5263605246161616, 'scripts': 3.5263605246161616, 'excel': 2.833213344056216, 'powerpoint': 3.5263605246161616, 'word': 3.5263605246161616, 'desarrollo': 2.833213344056216, 'sostenible': 3.5263605246161616, 'socioeconómico': 3.5263605246161616, 'gestión': 0.4818380868927384, 'gestionar': 1.916922612182061, 'planificación': 1.916922612182061, 'comercial': 0.26826398659467937, 'comerciales': 3.5263605246161616, 'comercio': 3.5263605246161616, 'experiencia': 0.7537718023763802, 'experiencias': 3.5263605246161616, 'pericia': 3.5263605246161616, 'manejo': 3.5263605246161616, 'manejar': 0.8873031950009027, 'manejan': 3.5263605246161616, 'clientes': 3.5263605246161616, 'cliente': 0.3074846997479607, 'usuarios': 3.5263605246161616, 'emprendimiento': 3.5263605246161616, 'emprendimientos': 3.5263605246161616, 'emprendedor': 3.5263605246161616, 'liderar': 1.916922612182061}\n",
      "{'ingeniería': 2.833213344056216, 'ingenierías': 3.5263605246161616, 'mecatrónica': 3.5263605246161616, 'máster': 3.5263605246161616, 'másteres': 3.5263605246161616, 'licenciatura': 3.5263605246161616, 'python': 3.5263605246161616, 'perl': 3.5263605246161616, 'scripts': 3.5263605246161616, 'excel': 2.833213344056216, 'powerpoint': 3.5263605246161616, 'word': 3.5263605246161616, 'desarrollo': 2.833213344056216, 'sostenible': 3.5263605246161616, 'socioeconómico': 3.5263605246161616, 'gestión': 0.4818380868927384, 'gestionar': 1.916922612182061, 'planificación': 1.916922612182061, 'comercial': 0.26826398659467937, 'comerciales': 3.5263605246161616, 'comercio': 3.5263605246161616, 'experiencia': 0.7537718023763802, 'experiencias': 3.5263605246161616, 'pericia': 3.5263605246161616, 'manejo': 3.5263605246161616, 'manejar': 0.8873031950009027, 'manejan': 3.5263605246161616, 'clientes': 3.5263605246161616, 'cliente': 0.3074846997479607, 'usuarios': 3.5263605246161616, 'emprendimiento': 3.5263605246161616, 'emprendimientos': 3.5263605246161616, 'emprendedor': 3.5263605246161616, 'liderar': 1.916922612182061, 'encabezar': 3.5263605246161616}\n",
      "{'ingeniería': 2.833213344056216, 'ingenierías': 3.5263605246161616, 'mecatrónica': 3.5263605246161616, 'máster': 3.5263605246161616, 'másteres': 3.5263605246161616, 'licenciatura': 3.5263605246161616, 'python': 3.5263605246161616, 'perl': 3.5263605246161616, 'scripts': 3.5263605246161616, 'excel': 2.833213344056216, 'powerpoint': 3.5263605246161616, 'word': 3.5263605246161616, 'desarrollo': 2.833213344056216, 'sostenible': 3.5263605246161616, 'socioeconómico': 3.5263605246161616, 'gestión': 0.4818380868927384, 'gestionar': 1.916922612182061, 'planificación': 1.916922612182061, 'comercial': 0.26826398659467937, 'comerciales': 3.5263605246161616, 'comercio': 3.5263605246161616, 'experiencia': 0.7537718023763802, 'experiencias': 3.5263605246161616, 'pericia': 3.5263605246161616, 'manejo': 3.5263605246161616, 'manejar': 0.8873031950009027, 'manejan': 3.5263605246161616, 'clientes': 3.5263605246161616, 'cliente': 0.3074846997479607, 'usuarios': 3.5263605246161616, 'emprendimiento': 3.5263605246161616, 'emprendimientos': 3.5263605246161616, 'emprendedor': 3.5263605246161616, 'liderar': 1.916922612182061, 'encabezar': 3.5263605246161616, 'lidera': 1.4469189829363254}\n",
      "{'ingeniería': 2.833213344056216, 'ingenierías': 3.5263605246161616, 'mecatrónica': 3.5263605246161616, 'máster': 3.5263605246161616, 'másteres': 3.5263605246161616, 'licenciatura': 3.5263605246161616, 'python': 3.5263605246161616, 'perl': 3.5263605246161616, 'scripts': 3.5263605246161616, 'excel': 2.833213344056216, 'powerpoint': 3.5263605246161616, 'word': 3.5263605246161616, 'desarrollo': 2.833213344056216, 'sostenible': 3.5263605246161616, 'socioeconómico': 3.5263605246161616, 'gestión': 0.4818380868927384, 'gestionar': 1.916922612182061, 'planificación': 1.916922612182061, 'comercial': 0.26826398659467937, 'comerciales': 3.5263605246161616, 'comercio': 3.5263605246161616, 'experiencia': 0.7537718023763802, 'experiencias': 3.5263605246161616, 'pericia': 3.5263605246161616, 'manejo': 3.5263605246161616, 'manejar': 0.8873031950009027, 'manejan': 3.5263605246161616, 'clientes': 3.5263605246161616, 'cliente': 0.3074846997479607, 'usuarios': 3.5263605246161616, 'emprendimiento': 3.5263605246161616, 'emprendimientos': 3.5263605246161616, 'emprendedor': 3.5263605246161616, 'liderar': 1.916922612182061, 'encabezar': 3.5263605246161616, 'lidera': 1.4469189829363254, 'equipos': 3.5263605246161616}\n",
      "{'ingeniería': 2.833213344056216, 'ingenierías': 3.5263605246161616, 'mecatrónica': 3.5263605246161616, 'máster': 3.5263605246161616, 'másteres': 3.5263605246161616, 'licenciatura': 3.5263605246161616, 'python': 3.5263605246161616, 'perl': 3.5263605246161616, 'scripts': 3.5263605246161616, 'excel': 2.833213344056216, 'powerpoint': 3.5263605246161616, 'word': 3.5263605246161616, 'desarrollo': 2.833213344056216, 'sostenible': 3.5263605246161616, 'socioeconómico': 3.5263605246161616, 'gestión': 0.4818380868927384, 'gestionar': 1.916922612182061, 'planificación': 1.916922612182061, 'comercial': 0.26826398659467937, 'comerciales': 3.5263605246161616, 'comercio': 3.5263605246161616, 'experiencia': 0.7537718023763802, 'experiencias': 3.5263605246161616, 'pericia': 3.5263605246161616, 'manejo': 3.5263605246161616, 'manejar': 0.8873031950009027, 'manejan': 3.5263605246161616, 'clientes': 3.5263605246161616, 'cliente': 0.3074846997479607, 'usuarios': 3.5263605246161616, 'emprendimiento': 3.5263605246161616, 'emprendimientos': 3.5263605246161616, 'emprendedor': 3.5263605246161616, 'liderar': 1.916922612182061, 'encabezar': 3.5263605246161616, 'lidera': 1.4469189829363254, 'equipos': 3.5263605246161616, 'equipo': 0.9614111671546247}\n",
      "{'ingeniería': 2.833213344056216, 'ingenierías': 3.5263605246161616, 'mecatrónica': 3.5263605246161616, 'máster': 3.5263605246161616, 'másteres': 3.5263605246161616, 'licenciatura': 3.5263605246161616, 'python': 3.5263605246161616, 'perl': 3.5263605246161616, 'scripts': 3.5263605246161616, 'excel': 2.833213344056216, 'powerpoint': 3.5263605246161616, 'word': 3.5263605246161616, 'desarrollo': 2.833213344056216, 'sostenible': 3.5263605246161616, 'socioeconómico': 3.5263605246161616, 'gestión': 0.4818380868927384, 'gestionar': 1.916922612182061, 'planificación': 1.916922612182061, 'comercial': 0.26826398659467937, 'comerciales': 3.5263605246161616, 'comercio': 3.5263605246161616, 'experiencia': 0.7537718023763802, 'experiencias': 3.5263605246161616, 'pericia': 3.5263605246161616, 'manejo': 3.5263605246161616, 'manejar': 0.8873031950009027, 'manejan': 3.5263605246161616, 'clientes': 3.5263605246161616, 'cliente': 0.3074846997479607, 'usuarios': 3.5263605246161616, 'emprendimiento': 3.5263605246161616, 'emprendimientos': 3.5263605246161616, 'emprendedor': 3.5263605246161616, 'liderar': 1.916922612182061, 'encabezar': 3.5263605246161616, 'lidera': 1.4469189829363254, 'equipos': 3.5263605246161616, 'equipo': 0.9614111671546247, 'clubes': 3.5263605246161616}\n",
      "{'ingeniería': 2.833213344056216, 'ingenierías': 3.5263605246161616, 'mecatrónica': 3.5263605246161616, 'máster': 3.5263605246161616, 'másteres': 3.5263605246161616, 'licenciatura': 3.5263605246161616, 'python': 3.5263605246161616, 'perl': 3.5263605246161616, 'scripts': 3.5263605246161616, 'excel': 2.833213344056216, 'powerpoint': 3.5263605246161616, 'word': 3.5263605246161616, 'desarrollo': 2.833213344056216, 'sostenible': 3.5263605246161616, 'socioeconómico': 3.5263605246161616, 'gestión': 0.4818380868927384, 'gestionar': 1.916922612182061, 'planificación': 1.916922612182061, 'comercial': 0.26826398659467937, 'comerciales': 3.5263605246161616, 'comercio': 3.5263605246161616, 'experiencia': 0.7537718023763802, 'experiencias': 3.5263605246161616, 'pericia': 3.5263605246161616, 'manejo': 3.5263605246161616, 'manejar': 0.8873031950009027, 'manejan': 3.5263605246161616, 'clientes': 3.5263605246161616, 'cliente': 0.3074846997479607, 'usuarios': 3.5263605246161616, 'emprendimiento': 3.5263605246161616, 'emprendimientos': 3.5263605246161616, 'emprendedor': 3.5263605246161616, 'liderar': 1.916922612182061, 'encabezar': 3.5263605246161616, 'lidera': 1.4469189829363254, 'equipos': 3.5263605246161616, 'equipo': 0.9614111671546247, 'clubes': 3.5263605246161616, 'planificar': 2.1400661634962708}\n",
      "{'ingeniería': 2.833213344056216, 'ingenierías': 3.5263605246161616, 'mecatrónica': 3.5263605246161616, 'máster': 3.5263605246161616, 'másteres': 3.5263605246161616, 'licenciatura': 3.5263605246161616, 'python': 3.5263605246161616, 'perl': 3.5263605246161616, 'scripts': 3.5263605246161616, 'excel': 2.833213344056216, 'powerpoint': 3.5263605246161616, 'word': 3.5263605246161616, 'desarrollo': 2.833213344056216, 'sostenible': 3.5263605246161616, 'socioeconómico': 3.5263605246161616, 'gestión': 0.4818380868927384, 'gestionar': 1.916922612182061, 'planificación': 1.916922612182061, 'comercial': 0.26826398659467937, 'comerciales': 3.5263605246161616, 'comercio': 3.5263605246161616, 'experiencia': 0.7537718023763802, 'experiencias': 3.5263605246161616, 'pericia': 3.5263605246161616, 'manejo': 3.5263605246161616, 'manejar': 0.8873031950009027, 'manejan': 3.5263605246161616, 'clientes': 3.5263605246161616, 'cliente': 0.3074846997479607, 'usuarios': 3.5263605246161616, 'emprendimiento': 3.5263605246161616, 'emprendimientos': 3.5263605246161616, 'emprendedor': 3.5263605246161616, 'liderar': 1.916922612182061, 'encabezar': 3.5263605246161616, 'lidera': 1.4469189829363254, 'equipos': 3.5263605246161616, 'equipo': 0.9614111671546247, 'clubes': 3.5263605246161616, 'planificar': 2.1400661634962708, 'planear': 3.5263605246161616}\n",
      "{'ingeniería': 2.833213344056216, 'ingenierías': 3.5263605246161616, 'mecatrónica': 3.5263605246161616, 'máster': 3.5263605246161616, 'másteres': 3.5263605246161616, 'licenciatura': 3.5263605246161616, 'python': 3.5263605246161616, 'perl': 3.5263605246161616, 'scripts': 3.5263605246161616, 'excel': 2.833213344056216, 'powerpoint': 3.5263605246161616, 'word': 3.5263605246161616, 'desarrollo': 2.833213344056216, 'sostenible': 3.5263605246161616, 'socioeconómico': 3.5263605246161616, 'gestión': 0.4818380868927384, 'gestionar': 1.916922612182061, 'planificación': 1.916922612182061, 'comercial': 0.26826398659467937, 'comerciales': 3.5263605246161616, 'comercio': 3.5263605246161616, 'experiencia': 0.7537718023763802, 'experiencias': 3.5263605246161616, 'pericia': 3.5263605246161616, 'manejo': 3.5263605246161616, 'manejar': 0.8873031950009027, 'manejan': 3.5263605246161616, 'clientes': 3.5263605246161616, 'cliente': 0.3074846997479607, 'usuarios': 3.5263605246161616, 'emprendimiento': 3.5263605246161616, 'emprendimientos': 3.5263605246161616, 'emprendedor': 3.5263605246161616, 'liderar': 1.916922612182061, 'encabezar': 3.5263605246161616, 'lidera': 1.4469189829363254, 'equipos': 3.5263605246161616, 'equipo': 0.9614111671546247, 'clubes': 3.5263605246161616, 'planificar': 2.1400661634962708, 'planear': 3.5263605246161616, 'planificarse': 3.5263605246161616}\n",
      "{'ingeniería': 2.833213344056216, 'ingenierías': 3.5263605246161616, 'mecatrónica': 3.5263605246161616, 'máster': 3.5263605246161616, 'másteres': 3.5263605246161616, 'licenciatura': 3.5263605246161616, 'python': 3.5263605246161616, 'perl': 3.5263605246161616, 'scripts': 3.5263605246161616, 'excel': 2.833213344056216, 'powerpoint': 3.5263605246161616, 'word': 3.5263605246161616, 'desarrollo': 2.833213344056216, 'sostenible': 3.5263605246161616, 'socioeconómico': 3.5263605246161616, 'gestión': 0.4818380868927384, 'gestionar': 1.916922612182061, 'planificación': 1.916922612182061, 'comercial': 0.26826398659467937, 'comerciales': 3.5263605246161616, 'comercio': 3.5263605246161616, 'experiencia': 0.7537718023763802, 'experiencias': 3.5263605246161616, 'pericia': 3.5263605246161616, 'manejo': 3.5263605246161616, 'manejar': 0.8873031950009027, 'manejan': 3.5263605246161616, 'clientes': 3.5263605246161616, 'cliente': 0.3074846997479607, 'usuarios': 3.5263605246161616, 'emprendimiento': 3.5263605246161616, 'emprendimientos': 3.5263605246161616, 'emprendedor': 3.5263605246161616, 'liderar': 1.916922612182061, 'encabezar': 3.5263605246161616, 'lidera': 1.4469189829363254, 'equipos': 3.5263605246161616, 'equipo': 0.9614111671546247, 'clubes': 3.5263605246161616, 'planificar': 2.1400661634962708, 'planear': 3.5263605246161616, 'planificarse': 3.5263605246161616, 'organizar': 2.833213344056216}\n",
      "{'ingeniería': 2.833213344056216, 'ingenierías': 3.5263605246161616, 'mecatrónica': 3.5263605246161616, 'máster': 3.5263605246161616, 'másteres': 3.5263605246161616, 'licenciatura': 3.5263605246161616, 'python': 3.5263605246161616, 'perl': 3.5263605246161616, 'scripts': 3.5263605246161616, 'excel': 2.833213344056216, 'powerpoint': 3.5263605246161616, 'word': 3.5263605246161616, 'desarrollo': 2.833213344056216, 'sostenible': 3.5263605246161616, 'socioeconómico': 3.5263605246161616, 'gestión': 0.4818380868927384, 'gestionar': 1.916922612182061, 'planificación': 1.916922612182061, 'comercial': 0.26826398659467937, 'comerciales': 3.5263605246161616, 'comercio': 3.5263605246161616, 'experiencia': 0.7537718023763802, 'experiencias': 3.5263605246161616, 'pericia': 3.5263605246161616, 'manejo': 3.5263605246161616, 'manejar': 0.8873031950009027, 'manejan': 3.5263605246161616, 'clientes': 3.5263605246161616, 'cliente': 0.3074846997479607, 'usuarios': 3.5263605246161616, 'emprendimiento': 3.5263605246161616, 'emprendimientos': 3.5263605246161616, 'emprendedor': 3.5263605246161616, 'liderar': 1.916922612182061, 'encabezar': 3.5263605246161616, 'lidera': 1.4469189829363254, 'equipos': 3.5263605246161616, 'equipo': 0.9614111671546247, 'clubes': 3.5263605246161616, 'planificar': 2.1400661634962708, 'planear': 3.5263605246161616, 'planificarse': 3.5263605246161616, 'organizar': 2.833213344056216, 'organizarlo': 3.5263605246161616}\n"
     ]
    }
   ],
   "source": [
    "### ahora veamos si resulta el ranking\n",
    "#frecuencia de término – frecuencia inversa de documento \n",
    "#Tf-idf\n",
    "#Para calcular este ranking es mejor tener las secciones skills y experiencia\n",
    "#con el fin de calcular esta metrica usando la ocurrencia de las palabras\n",
    "# Tenemos todos los CV's y una descripción del cargo, a este descripcion del cargo\n",
    "# tiene N palabras, le buscamos 2 palabras parecidas, generando una descripcion\n",
    "# de N*2\n",
    "\n",
    "# Usando esta nuevo set de palabras de descripcion, recorremos todos los cvs contando \n",
    "# la ocurrencia de estas palabras en cada documento, y luego se genera un ranking usando Tf-idf\n",
    "# La pregunta es: ¿Lo haré sobre el documento entero? o ¿Trataré de seccionar y ocupar ciertas secciones?\n",
    "\n",
    "no_of_cv = len(jsons)\n",
    "print(no_of_cv)\n",
    "\n",
    "count = {}\n",
    "idf = {}\n",
    "for word in word_value.keys():\n",
    "    count[word] = 0\n",
    "    for i in range(no_of_cv):\n",
    "        jsons[i]['skills'] = [x.lower() for x in jsons[i]['skills']]\n",
    "        try:\n",
    "            #if word in cvs.loc(0)['skill'][i].split() or word in cvs.loc(0)['exp'][i].split():\n",
    "            if word in jsons[i]['skills'] or word in jsons[i]['experiencia'] or word in jsons[i]['educación']:\n",
    "                #print('entre')\n",
    "                count[word] += 1\n",
    "        except:\n",
    "            pass\n",
    "    if (count[word] == 0):\n",
    "        count[word] = 1\n",
    "    idf[word] = math.log(no_of_cv/count[word])\n",
    "    print(idf)"
   ]
  },
  {
   "cell_type": "code",
   "execution_count": 108,
   "metadata": {},
   "outputs": [
    {
     "name": "stdout",
     "output_type": "stream",
     "text": [
      "{0: 6.966126161669347, 1: 6.094712991655809, 2: 0.0, 3: 2.4369593107923397, 4: 6.182913570383523, 5: 3.4903986553945825, 6: 6.907389428145038, 7: 5.979010008567532, 8: 6.909261784044033, 9: 12.0946134443653, 10: 7.442058495821767, 11: 5.666426688112432, 12: 3.7899870980107915, 13: 0.9418802259307002, 14: 15.204158629608813, 15: 6.76922576108732, 16: 9.999526338307708, 17: 2.266307306603453, 18: 6.673344427705655, 19: 1.572574369157548, 20: 2.518570207056933, 21: 10.729645460559906, 22: 0.0, 23: 3.503883867357343, 24: 1.09073628226481, 25: 3.1898152210096535, 26: 8.31910658988543, 27: 7.326877068556623, 28: 16.511166372555003, 29: 20.368127020626453, 30: 5.969030654407657, 31: 3.3669619296708975, 32: 0.9636761737854768, 33: 7.554555625947028}\n"
     ]
    }
   ],
   "source": [
    "\n",
    "score = {}\n",
    "for i in range(no_of_cv):\n",
    "    score[i] = 0\n",
    "    try:\n",
    "        for word in word_value.keys():\n",
    "            tf = jsons[i]['skills'].count(word) + jsons[i]['experiencia'].count(word) + jsons[i]['educación'].count(word)\n",
    "            #print(tf)\n",
    "            score[i] += word_value[word]*tf*idf[word]\n",
    "    except:\n",
    "        pass\n",
    "print(score)"
   ]
  },
  {
   "cell_type": "code",
   "execution_count": 109,
   "metadata": {},
   "outputs": [],
   "source": [
    "sorted_list = []\n",
    "for i in range(no_of_cv):\n",
    "    sorted_list.append((score[i], jsons[i]['nombre archivo']))\n",
    "    \n",
    "sorted_list.sort(reverse = True)\n",
    "\n",
    "#for s, i in sorted_list:\n",
    "#    if list(cvs)[i] != '.DS_Store':\n",
    "#        print(list(cvs)[i], ':', s)"
   ]
  },
  {
   "cell_type": "code",
   "execution_count": 110,
   "metadata": {},
   "outputs": [
    {
     "data": {
      "text/plain": [
       "[(20.368127020626453, '1581000554896-Nabib_M_Garcia_Hirsh_CV'),\n",
       " (16.511166372555003, '1581023751928-CV'),\n",
       " (15.204158629608813, '1580573732905-DiegoAlbertoGutierrezBejarano'),\n",
       " (12.0946134443653, '1580320654107-CV_Gabriel_Garcia_Lorca'),\n",
       " (10.729645460559906, '1581954259745-CV_2020_ANTONIO_HARTMANN_R'),\n",
       " (9.999526338307708, '1580497335052-Jose_Medina_13-1-2020'),\n",
       " (8.31910658988543, '1583796411230-Curriculum__fco_marzo'),\n",
       " (7.554555625947028, '1586903416737-NewHTJ'),\n",
       " (7.442058495821767, '1582640494849-ANDRES_MENA_CV'),\n",
       " (7.326877068556623, '1582313013581-CV_FRF'),\n",
       " (6.966126161669347, '1582718980347-CV_-_Mario_Espinoza1'),\n",
       " (6.909261784044033,\n",
       "  '1580231848251-Curriculum_Vitae_-_Jesús_Alonso_Vásquez_Cole'),\n",
       " (6.907389428145038, '1583871756395-CVCabanaGarayChristian1_1'),\n",
       " (6.76922576108732, '1581008153040-CV_Jose_Chávez'),\n",
       " (6.673344427705655, '1581690552715-CV_Gustavo_Martinez_Raya'),\n",
       " (6.182913570383523, '1581631090164-CV_ROSSANA_ALAYZA_-_FEBRERO_2020'),\n",
       " (6.094712991655809, '1580920711029-Kevin_SQ'),\n",
       " (5.979010008567532, '1586987553214-Felipe_Haupt_Ossa_-CV_1'),\n",
       " (5.969030654407657, '1580913938357-CV_Gianfranco_Vela_ESP_Ene.2020'),\n",
       " (5.666426688112432, '1584562197232-CV_Carolina_Sierpe_Ing._Comercial'),\n",
       " (3.7899870980107915, '1586809060281-CV_Constanza_Arredondo_Berrios.'),\n",
       " (3.503883867357343, '1586786838778-CV_Postulaciones'),\n",
       " (3.4903986553945825, '1583336373286-CV_Gf_Rosales_2020'),\n",
       " (3.3669619296708975, '1581343781644-Vicente_Allel_Handal_CV_-_Ing_Comercial'),\n",
       " (3.1898152210096535, '1584051594658-CV_Javier_Alburquerque'),\n",
       " (2.518570207056933, '1592840847221-CV_Diego_Diaz_OK-3'),\n",
       " (2.4369593107923397, '1580248761709-CV_Sergio_Soto_Valdes'),\n",
       " (2.266307306603453, '1574824594718-Ing._Comercial_Paula_Fetis_CV'),\n",
       " (1.572574369157548, '1588728488694-CV_Fernando_Cuevas'),\n",
       " (1.09073628226481, '1581295975312-CV_Renzo_Salvatierra_R'),\n",
       " (0.9636761737854768, '1589576482034-CV_Nicol_Cabrera_'),\n",
       " (0.9418802259307002, '1588283816605-CV_Erika_Sotomayor_Ulloa'),\n",
       " (0.0, 'prueba_genoma_experiencia'),\n",
       " (0.0, '1581878742461-Curriculum_Joselyn_Mari_2020_1')]"
      ]
     },
     "execution_count": 110,
     "metadata": {},
     "output_type": "execute_result"
    }
   ],
   "source": [
    "sorted_list"
   ]
  },
  {
   "cell_type": "code",
   "execution_count": null,
   "metadata": {},
   "outputs": [],
   "source": []
  }
 ],
 "metadata": {
  "kernelspec": {
   "display_name": "Python 3",
   "language": "python",
   "name": "python3"
  },
  "language_info": {
   "codemirror_mode": {
    "name": "ipython",
    "version": 3
   },
   "file_extension": ".py",
   "mimetype": "text/x-python",
   "name": "python",
   "nbconvert_exporter": "python",
   "pygments_lexer": "ipython3",
   "version": "3.8.5"
  }
 },
 "nbformat": 4,
 "nbformat_minor": 4
}
