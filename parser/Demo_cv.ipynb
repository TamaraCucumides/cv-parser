{
 "cells": [
  {
   "cell_type": "markdown",
   "metadata": {},
   "source": [
    "# Demo Cv a .txt. generate_text_files.txt\n",
    "\n",
    "Este script toma los CV en formato PDF y genera archivos .txt. Se usa la librería **PyMuPdf** https://github.com/pymupdf/PyMuPDF .\n",
    "Además se procesa para eliminar simbolos innecesarios y no reconocidos. Procesa los archivos .pdf de la carpeta **/resumes** y genera como salida .txt en la carpeta **/resumes_text_output**"
   ]
  },
  {
   "cell_type": "code",
   "execution_count": 1,
   "metadata": {},
   "outputs": [],
   "source": [
    "#%run -i '/home/erwin/Genoma/cv-parser/parser/generate_text_files.py'"
   ]
  },
  {
   "cell_type": "markdown",
   "metadata": {},
   "source": [
    "### Veamos un ejemplo de salida"
   ]
  },
  {
   "cell_type": "code",
   "execution_count": 51,
   "metadata": {
    "scrolled": false
   },
   "outputs": [
    {
     "name": "stdout",
     "output_type": "stream",
     "text": [
      "Constanza Arredondo Berríos \n",
      "Ingeniero Comercial, Pontificia Universidad Católica de Chile \n",
      "cearredondo@uc.cl \n",
      "569 88076057 \n",
      "Presentación: \n",
      "Empática, responsable, alegre y \n",
      "creativa. Mi objetivo es \n",
      "consolidarme profesionalmente \n",
      "en una organización, donde \n",
      "pueda aprender y desarrollar \n",
      "mis habilidades técnicas y \n",
      "sociales. \n",
      "Me gusta trabajar en equipo, \n",
      "comunicarme, alcanzar \n",
      "objetivos y planificar. \n",
      "Experiencia: \n",
      "Abril 2019  marzo 2020: Working Holiday en Dinamarca. \n",
      "Ejecutiva Comercial Banco Bice Part time \n",
      "Banco Bice Febrero 2019  Marzo 2019 \n",
      "Mi trabajo se enfocó en la captación de clientes. Busqué activamente el perfil \n",
      "de cliente, trabajé en equipo y desarrollé mis habilidades comunicativas para \n",
      "lograr con éxito mis objetivos mensuales. \n",
      "Analista Desarrollo Organizacional Fulltime \n",
      "Empresas La Polar S.a. Octubre 2018  Diciembre 2018 \n",
      "Reemplazo de prenatal. Mi principal tarea consistió en dirigir y aplicar las \n",
      "capacitaciones de los colaboradores de la empresa. Analicé las bases de datos \n",
      "mediante Excel y actualicé las descripciones de cargo de la empresa. \n",
      "Ejecutiva Comercial Banco Bice Part time \n",
      "Banco Bice Mayo 2018  Agosto 2018 \n",
      "Realicé las mismas tareas más arriba descritas. Además, recibí capacitación \n",
      "sobre prevención de delito financiero. \n",
      "Ayudante Curso Más Capaz Mujer Emprendedora \n",
      "Simón de Cirene Diciembre 2016  Enero 2017 \n",
      "En mi práctica me enfoque en el seguimiento y aplicación del curso de \n",
      "capacitación de micro empresarias de Santiago, mediante la implementación \n",
      "del modelo Canvas de negocios en cada uno de los proyectos y desarrollo \n",
      "de habilidades técnicas. También, implementé el programa Lo Barnechea \n",
      "Competencias: \n",
      " Excel \n",
      " Razonamiento analítico \n",
      " Trabajo en equipo \n",
      " Adaptable al cambio \n",
      " Comunicación \n",
      " Sociable y amigable \n",
      " Autoconfianza \n",
      "Idiomas: \n",
      " \n",
      "Espanol: Nativo \n",
      " \n",
      "Ingles: Avanzado \n",
      "Otros: \n",
      " Licencia de conducir \n",
      "clase B \n",
      " Disponibilidad para \n",
      "viajar \n",
      "Emprende y seleccioné a los postulantes de a cuerdo a los criterios de la \n",
      "Municipalidad de Lo Barnechea. \n",
      "Educación: \n",
      "Ingenieria Comercial Mencion Administracion de Empresas \n",
      "Pontificia Universidad Catolica de Chile \n",
      "Titulada  Mar 2013  Jul 2017 \n",
      "Complementario: \n",
      "Tutora Par en College \n",
      "Uc, 3 años. \n",
      "South American \n",
      "Business Forum \n",
      "Premio a mejor \n",
      "compañera en fútbol. \n",
      "Voluntariados: \n",
      "Foodsharing: Compartir entre la comunidad los alimentos en \n",
      "buen estado que los supermercados desechan. \n",
      "One Bowl: Cocina vegana comunitaria. \n",
      "La Obra: Construcción de casas progresivas para sectores de \n",
      "menor ingreso. \n",
      "Eventos: Copenhell, Distortion. \n",
      "\n"
     ]
    }
   ],
   "source": [
    "file = '/home/erwin/Genoma/cv-parser/parser/Outputs/output_text/1586809060281-CV_Constanza_Arredondo_Berrios'\n",
    "cv_txt = open(file, \"r\")\n",
    "print(cv_txt.read())"
   ]
  },
  {
   "cell_type": "markdown",
   "metadata": {},
   "source": [
    "# Demo parser.py\n",
    "## Puede ser utilizado para filtrar cv para keywords especificas, recuperar mail, nombre, grado más alto, etc.\n",
    "\n",
    "Primero corremos el script para que procese los archivos ubicados en la carpeta **/resumes**.\n",
    "Esta funcion genera archivos .JSON"
   ]
  },
  {
   "cell_type": "markdown",
   "metadata": {},
   "source": [
    "```python\n",
    "grados_educativos = [\"técnico\", \"licenciatura\", \"enseñanza media\", \"enseñanza básica\", \"magister\", 'Educación Media', 'Educación Básica'\n",
    "                     \"msc\", \"doctorado\", \"phd\", \"postdoc\", \"tecnico profesional\", \"Ingeniería\", \"Pedagogía\"]\n",
    "## quizas ordenarlos  y buscar el más alto en el curriculum\n",
    "\n",
    "grados_educativos_orden = ['enseñanza básica', 'educación básica', 'enseñanza media', 'educacion media', 'técnico', 'tecnico profesional', 'licenciado', 'bachiller','bachillerato','licenciada',\n",
    "                            'licenciatura', 'ingeniero', 'ingeniera','ingeniería', 'mba','msc', 'magister','maestría', 'magíster', 'máster' ,'doctor', 'doctorado', 'phd','ph.d', 'postdoc']\n",
    "\n",
    "\n",
    "educacion = [\"Universidad de Chile\", \"UChile\",\"Universidad Católica de Chile\", \"Pontificia Universidad Catolica de Chile\"\n",
    "                \"Universidad de los Lagos\", \"Universidad de Santiago de Chile\", \"Universidad Tecnológica Metropolitana\", \"Universidad Diego Portales\"\n",
    "                , 'Universidad del Desarrollo', 'Universidad Austral de Chile', 'Inacap', 'Universidad Adolfo Ibáñez', 'Universidad de Las Américas','Universidad Santo Tomas']\n",
    "\n",
    "educacionSiglas = ['UC', 'UTEM', 'UAI', 'PUC', 'UCH', 'UDD', 'UAI', 'ULA', 'USACH', 'UACH', 'DUOC','UST', 'UNAB']\n",
    "\n",
    "idiomas = ['inglés', 'alemán', 'portugués', 'francés', 'chino', 'mandarin', 'español','italiano']\n",
    "idiomas_nivel = [' a1', ' a2', ' b1', ' b2', ' c1', ' c2', ' básico', ' intermedio', ' avanzado', ' nativo', ' competencia básica' \n",
    "                    ' competencia profesional']\n",
    "\n",
    "\n",
    "palabras_claves = ['proactividad', 'liderar', 'liderazgo',  'puntual'\n",
    "         ,  'paciencia', 'resiliencia', 'resilisente', 'tolerancia', 'comprometido', 'compromiso', 'empatia', 'responsabilidad',\n",
    "         'negociación', 'dialogo', 'escuchar', 'comunicacion','analizar', 'autodidacta', 'autoaprendizaje'\n",
    "         , 'creativo' , 'ética', 'disciplina', 'confianza' , 'motivación', 'colaboración', 'aprender', 'pasion', 'apasionado',\n",
    "         'disposición', 'innovacion',  'gestión', 'empatia', 'alegre','sociable',\n",
    "         'adaptable','amigable', 'voluntariado', 'modelamiento', 'análisis',  'ordernado','perfeccionista', 'negociación', 'estrategia']\n",
    "\n",
    "licencias = ['comptia security+', 'isc', 'cissp', 'isaca','cism', 'cisa', 'ccsp', 'gsec', 'ccna', 'offensive security']\n",
    "```"
   ]
  },
  {
   "cell_type": "markdown",
   "metadata": {},
   "source": [
    "### Ejemplo de las habilidades que andamos buscando, por supuesto esto es modificable"
   ]
  },
  {
   "cell_type": "code",
   "execution_count": 66,
   "metadata": {},
   "outputs": [
    {
     "data": {
      "text/plain": [
       "Index(['python', 'excel', 'latex', 'word', 'gurobi', 'django', 'javascript',\n",
       "       'matlab', 'apache', 'spark', 'aws', 'c++', 'R', 'java', 'pytorch',\n",
       "       'octave', 'word.1', 'teams', 'zoom', 'autocad', 'erp', 'office',\n",
       "       'verilog', 'jupyter', 'rstudio', 'verilog.1', 'java.1', 'aws.1', 'gcp',\n",
       "       'spark.1', 'power point', 'sql', 'mysql', 'azure', 'nlp', 'docker',\n",
       "       'kubernets', 'machine learning', 'manejo versiones', 'text mining',\n",
       "       'numpy', 'nosql', 'deep learning', 'iot', 'powerpoint', 'arduino',\n",
       "       'html', 'wordpress', 'pensamiento crítico', 'trabajo en equipo',\n",
       "       'obtención de resultados', 'licencia de conducir', 'stata', 'power bi',\n",
       "       'oracle', 'inteligencia emocional', 'sap', 'marketing', 'coaching',\n",
       "       'ventas', 'bilingüe', 'trabajo en equipo.1', 'autocontrol', 'trello'],\n",
       "      dtype='object')"
      ]
     },
     "execution_count": 66,
     "metadata": {},
     "output_type": "execute_result"
    }
   ],
   "source": [
    "import pandas as pd\n",
    "skills = pd.read_csv('/home/erwin/Genoma/cv-parser/parser/CSVs/skills.csv')\n",
    "skills.columns"
   ]
  },
  {
   "cell_type": "code",
   "execution_count": 1,
   "metadata": {},
   "outputs": [
    {
     "name": "stderr",
     "output_type": "stream",
     "text": [
      "[nltk_data] Downloading package punkt to /home/erwin/nltk_data...\n",
      "[nltk_data]   Package punkt is already up-to-date!\n",
      "[nltk_data] Downloading package averaged_perceptron_tagger to\n",
      "[nltk_data]     /home/erwin/nltk_data...\n",
      "[nltk_data]   Package averaged_perceptron_tagger is already up-to-\n",
      "[nltk_data]       date!\n",
      "[nltk_data] Downloading package stopwords to /home/erwin/nltk_data...\n",
      "[nltk_data]   Package stopwords is already up-to-date!\n"
     ]
    },
    {
     "name": "stdout",
     "output_type": "stream",
     "text": [
      "Finalizado. Se han procesado 34 CVs\n"
     ]
    }
   ],
   "source": [
    "#%run -i '/home/erwin/Genoma/cv-parser/parser/parser.py'"
   ]
  },
  {
   "cell_type": "markdown",
   "metadata": {},
   "source": [
    "### Veamos un ejemplo parseado"
   ]
  },
  {
   "cell_type": "code",
   "execution_count": 52,
   "metadata": {},
   "outputs": [
    {
     "name": "stdout",
     "output_type": "stream",
     "text": [
      "{'Celular': ['56988076057'],\n",
      " 'Correo': ['cearredondo@uc.cl'],\n",
      " 'Educacion': ['Universidad Católica de Chile'],\n",
      " 'Grado': ['Ingeniería'],\n",
      " 'Lenguajes': ['Inglés avanzado', 'Español', 'Inglés', 'Español nativo'],\n",
      " 'Linkedin': None,\n",
      " 'Nombre': 'Constanza Arredondo Berríos ',\n",
      " 'Nombre archivo': '/home/erwin/Genoma/cv-parser/parser/resumes_pdf/1586809060281-CV_Constanza_Arredondo_Berrios.',\n",
      " 'Palabras Claves': ['Modelamiento',\n",
      "                     'Negociación',\n",
      "                     'Alegre',\n",
      "                     'Responsabilidad',\n",
      "                     'Adaptable',\n",
      "                     'Creativo',\n",
      "                     'Amigable',\n",
      "                     'Colaboración',\n",
      "                     'Aprender',\n",
      "                     'Sociable',\n",
      "                     'Voluntariado'],\n",
      " 'Skills': ['Excel']}\n"
     ]
    }
   ],
   "source": [
    "import json\n",
    "import pprint\n",
    "\n",
    "path_to_json = '/home/erwin/Genoma/cv-parser/parser/Outputs/output_parser/1586809060281-CV_Constanza_Arredondo_Berrios..json'\n",
    "\n",
    "\n",
    "with open(path_to_json, 'r') as myfile:\n",
    "    data = myfile.read()\n",
    "\n",
    "# parse file\n",
    "cv_parseado = json.loads(data)\n",
    "pprint.pprint(cv_parseado)"
   ]
  },
  {
   "cell_type": "markdown",
   "metadata": {},
   "source": [
    "# Demo seccionar\n",
    "En principio se seccionan los cv en las siguientes categorias:\n",
    "1. Extras o Perfil\n",
    "2. Experiencia\n",
    "3. Educación\n",
    "4. Skills\n",
    "\n",
    "Para poder separar en secciones se ocupa la tabla creada por Daniel, se agregan palabras recurrentes en cada una de las secciones.\n",
    "Seccionar genera archivos .JSON"
   ]
  },
  {
   "cell_type": "markdown",
   "metadata": {},
   "source": [
    "### Ejemplo de las primeras 5 filas del archivo que se usa para seccionar"
   ]
  },
  {
   "cell_type": "code",
   "execution_count": 53,
   "metadata": {},
   "outputs": [
    {
     "data": {
      "text/html": [
       "<div>\n",
       "<style scoped>\n",
       "    .dataframe tbody tr th:only-of-type {\n",
       "        vertical-align: middle;\n",
       "    }\n",
       "\n",
       "    .dataframe tbody tr th {\n",
       "        vertical-align: top;\n",
       "    }\n",
       "\n",
       "    .dataframe thead th {\n",
       "        text-align: right;\n",
       "    }\n",
       "</style>\n",
       "<table border=\"1\" class=\"dataframe\">\n",
       "  <thead>\n",
       "    <tr style=\"text-align: right;\">\n",
       "      <th></th>\n",
       "      <th>Perfil</th>\n",
       "      <th>Experiencia</th>\n",
       "      <th>Formación Académica</th>\n",
       "      <th>skills</th>\n",
       "    </tr>\n",
       "  </thead>\n",
       "  <tbody>\n",
       "    <tr>\n",
       "      <th>0</th>\n",
       "      <td>Perfil</td>\n",
       "      <td>Experiencia</td>\n",
       "      <td>Formación Académica</td>\n",
       "      <td>skills</td>\n",
       "    </tr>\n",
       "    <tr>\n",
       "      <th>1</th>\n",
       "      <td>Resumen</td>\n",
       "      <td>Profesional</td>\n",
       "      <td>Educación</td>\n",
       "      <td>Habilidades</td>\n",
       "    </tr>\n",
       "    <tr>\n",
       "      <th>2</th>\n",
       "      <td>Biografía</td>\n",
       "      <td>Logros</td>\n",
       "      <td>Formación</td>\n",
       "      <td>Cualificaciones</td>\n",
       "    </tr>\n",
       "    <tr>\n",
       "      <th>3</th>\n",
       "      <td>Sobre</td>\n",
       "      <td>Experiencia</td>\n",
       "      <td>Estudios</td>\n",
       "      <td>Conocimientos</td>\n",
       "    </tr>\n",
       "    <tr>\n",
       "      <th>4</th>\n",
       "      <td>Acerca de mi</td>\n",
       "      <td>historial</td>\n",
       "      <td>Formación educativa</td>\n",
       "      <td>Habilidades</td>\n",
       "    </tr>\n",
       "  </tbody>\n",
       "</table>\n",
       "</div>"
      ],
      "text/plain": [
       "         Perfil  Experiencia   Formación Académica           skills\n",
       "0        Perfil  Experiencia   Formación Académica           skills\n",
       "1       Resumen   Profesional            Educación      Habilidades\n",
       "2     Biografía        Logros            Formación  Cualificaciones\n",
       "3         Sobre   Experiencia             Estudios    Conocimientos\n",
       "4  Acerca de mi     historial  Formación educativa      Habilidades"
      ]
     },
     "execution_count": 53,
     "metadata": {},
     "output_type": "execute_result"
    }
   ],
   "source": [
    "import pandas as pd\n",
    "categorias = pd.read_csv('/home/erwin/Genoma/cv-parser/parser/CSVs/seccionesCV.csv', header=0)\n",
    "categorias.head()"
   ]
  },
  {
   "cell_type": "code",
   "execution_count": 22,
   "metadata": {},
   "outputs": [
    {
     "name": "stdout",
     "output_type": "stream",
     "text": [
      "/home/erwin/Genoma/cv-parser/parser/Outputs/output_text/\n",
      "Seccionando CVs: 34\n",
      "Finalizado\n"
     ]
    }
   ],
   "source": [
    "#%run -i '/home/erwin/Genoma/cv-parser/parser/seccionar.py'"
   ]
  },
  {
   "cell_type": "markdown",
   "metadata": {},
   "source": [
    "### Veamos un ejemplo seccionado"
   ]
  },
  {
   "cell_type": "code",
   "execution_count": 54,
   "metadata": {
    "scrolled": false
   },
   "outputs": [
    {
     "name": "stdout",
     "output_type": "stream",
     "text": [
      "{'educación': 'ingeniero comercial , pontificia universidad católica chile \\n'\n",
      "              ' cearredondo@uc.cl \\n'\n",
      "              ' capacitación micro empresario santiago , implementación \\n'\n",
      "              ' educación : \\n'\n",
      "              ' pontificia universidad catolica chile \\n'\n",
      "              ' titulada   mar 2013   jul 2017 \\n'\n",
      "              ' tutora par college \\n'\n",
      "              ' uc , 3 año . \\n'\n",
      "              ' south american \\n'\n",
      "              ' business forum \\n'\n",
      "              ' premio a \\n'\n",
      "              ' menor ingresar . \\n'\n",
      "              ' eventos : copenhell , distortion . \\n'\n",
      "              ' ',\n",
      " 'experiencia': 'empática , responsable , alegrar y \\n'\n",
      "                ' consolidarme profesionalmente \\n'\n",
      "                ' organización , \\n'\n",
      "                ' aprender y desarrollar \\n'\n",
      "                ' comunicarme , alcanzar \\n'\n",
      "                ' objetivo y planificar . \\n'\n",
      "                ' experiencia : \\n'\n",
      "                ' ejecutiva comercial banco bice part timar \\n'\n",
      "                ' banco bice febrero 2019   marzo 2019 \\n'\n",
      "                ' cliente , trabajar equipar y desarrollar habilidad '\n",
      "                'comunicativo \\n'\n",
      "                ' lograr éxito objetivo mensual . \\n'\n",
      "                ' analista desarrollo organizacional fulltime \\n'\n",
      "                ' reemplazo prenatal . principal tarea consistir dirigir y '\n",
      "                'aplicar \\n'\n",
      "                ' excel y actualizar descripción cargar empresa . \\n'\n",
      "                ' ejecutiva comercial banco bice part timar \\n'\n",
      "                ' banco bice mayo 2018   agosto 2018 \\n'\n",
      "                ' realicé tarea describir . , recibir capacitación \\n'\n",
      "                ' prevención delito financiero . \\n'\n",
      "                ' ayudante curso capaz mujer emprendedora \\n'\n",
      "                ' simón cirene diciembre 2016   enero 2017 \\n'\n",
      "                ' práctico enfocar seguimiento y aplicación cursar \\n'\n",
      "                ' modelar canvas negocio proyecto y desarrollar \\n'\n",
      "                '   equipar \\n'\n",
      "                '   adaptable cambiar \\n'\n",
      "                '   comunicación \\n'\n",
      "                '   sociable y amigable \\n'\n",
      "                ' idiomas : \\n'\n",
      "                '   licencia conducir \\n'\n",
      "                ' clase b \\n'\n",
      "                '   disponibilidad \\n'\n",
      "                ' emprende y seleccionar a postulante a cuerdo a criterio \\n'\n",
      "                ' municipalidad barnechea . \\n'\n",
      "                ' ingenieria comercial mencion administracion empresas \\n'\n",
      "                ' foodsharing : compartir comunidad alimento \\n'\n",
      "                ' obra : construcción casar progresivo sector \\n'\n",
      "                ' ',\n",
      " 'extras': 'constanza arredondo berríos \\n'\n",
      "           ' presentación : \\n'\n",
      "           ' creativo . objetivar \\n'\n",
      "           ' gustar equipar , \\n'\n",
      "           ' enfocar captación cliente . busqué activamente perfil \\n'\n",
      "           ' empresas polar s.a . octubre 2018   diciembre 2018 \\n'\n",
      "           ' capacitación colaborador empresa . analicé base dato \\n'\n",
      "           ' viajar \\n'\n",
      "           ' complementario : \\n'\n",
      "           ' compañero fútbol . \\n'\n",
      "           ' voluntariados : \\n'\n",
      "           ' ',\n",
      " 'nombre archivo': '1586809060281-CV_Constanza_Arredondo_Berrios',\n",
      " 'skills': 'habilidad técnico y \\n'\n",
      "           ' social . \\n'\n",
      "           ' abril 2019   marzo 2020 : working holiday dinamarca . \\n'\n",
      "           ' habilidad técnico . , implementar programar barnechea \\n'\n",
      "           ' competencias : \\n'\n",
      "           '   excel \\n'\n",
      "           '   razonamiento analítico \\n'\n",
      "           '   autoconfianza \\n'\n",
      "           ' espanol : nativo \\n'\n",
      "           ' ingles : avanzado \\n'\n",
      "           ' : \\n'\n",
      "           ' supermercado desechar . \\n'\n",
      "           ' one bowl : cocina vegana comunitario . \\n'\n",
      "           ' '}\n"
     ]
    }
   ],
   "source": [
    "path = '/home/erwin/Genoma/cv-parser/parser/Outputs/output_seccionado/1586809060281-CV_Constanza_Arredondo_Berrios.json'\n",
    "file_seccionado = open(path,)\n",
    "cv_seccionado = json.load(file_seccionado)\n",
    "pprint.pprint(cv_seccionado)"
   ]
  },
  {
   "cell_type": "markdown",
   "metadata": {},
   "source": [
    "# Demo ranking\n",
    "Para la realización del ranking se usa el curriculum seccionado, por lo tanto se cargan los archivos .JSON.\n",
    "\n",
    "Para el cálculo del ranking se utiliza Tf-idf (frecuencia de término – frecuencia inversa de documento)\n",
    "\n",
    "\\begin{equation*}\n",
    "idf(t, D) = log \\frac{|D|}{|d \\in D : t \\in D|}\n",
    "\\end{equation*}\n",
    "Donde D es el número de CV, y el denominador es el número de documentos donde aparece cierta palabra. tf es número de veces que sale una palabra en cierto documento.\n",
    "\n",
    "\\begin{equation*}\n",
    "\\text{Tf-idf} = tf \\cdot idf\n",
    "\\end{equation*}\n",
    "\n",
    "Tf-idf es el producto de dos medidas, frecuencia de término y frecuencia inversa de documento.\n",
    "El factor de frecuencia inversa de documento que atenúa el peso de los términos que ocurren con mucha frecuencia en la colección de documentos e incrementa el peso de los términos que ocurren pocas veces.\n",
    "\n",
    "***Algo importante mencionar es que no buscamos la palabra exacta en los CV, sino más bien se calcula la similitud de las palabras, si esta simulitud es mayor a cierto umbral entonces se considera que la palabra fue encontrada.***\n",
    "\n",
    "## Cálculo de ranking paso a paso:\n",
    "1. Cargar los archivos .json que contiene a los cvs seccionados\n",
    "2. Recibir una descripción de cargo.\n",
    "3. Ampliar la descripción usando cargos parecidos. Usando word ***embeddings*** (https://miro.medium.com/max/2598/1*sAJdxEsDjsPMioHyzlN3_A.png) en español (https://github.com/dccuchile/spanish-word-embeddings). Su usa FastText embeddings from SBWC (más de 800.000 vectores). ***Con este modelo se calculan las similitudes de las palabras y frases.***\n",
    "3. Recorrer los cvs en sus secciones educación, experiencia y skills. Usando las palabras de la descripción de cargo se calcula para cada uno de los CV la métrica Tf-idf.\n",
    "\n",
    "Antes de pasar al cálculo de ranking veamos unos ejemplos usando word embeddings en español:"
   ]
  },
  {
   "cell_type": "markdown",
   "metadata": {},
   "source": [
    "### Definamos algunas funciones útiles"
   ]
  },
  {
   "cell_type": "code",
   "execution_count": 58,
   "metadata": {},
   "outputs": [],
   "source": [
    "from gensim.models.keyedvectors import KeyedVectors\n",
    "\n",
    "\n",
    "wordvectors_file_vec ='/home/erwin/Genoma/cv-parser/parser/embeddings/fasttext-sbwc.3.6.e20.vec'\n",
    "cantidad = 500000\n",
    "model = KeyedVectors.load_word2vec_format(wordvectors_file_vec, limit=cantidad)\n",
    "\n",
    "\n",
    "\n",
    "\n",
    "# definamos algunas funciones utiles\n",
    "\n",
    "def sent2vec(s):\n",
    "    '''Generate Vectora for sentences.'''\n",
    "    M = []\n",
    "    for w in s.split():\n",
    "        try:\n",
    "            M.append(model[w])\n",
    "        except:\n",
    "            continue\n",
    "    M = np.array(M)\n",
    "    v = M.sum(axis=0)\n",
    "    return v/np.sqrt((v**2).sum())\n",
    "\n",
    "def cosine_sim(vec1, vec2):\n",
    "    '''Return Cosine Similarity.'''\n",
    "    return  np.dot(vec1,vec2)/(np.linalg.norm(vec1)* np.linalg.norm(vec2))\n",
    "\n",
    "def get_closest(word, n):\n",
    "    '''Get n most similar words by words.'''\n",
    "    #This function can easily be expanded to get similar words to phrases--\n",
    "    #using sent2vec() method defined in WithWord2Vec notebook. \n",
    "    word = word.lower()\n",
    "    words = [word]\n",
    "    similar_vals = [1]\n",
    "    try:\n",
    "        similar_list = model.most_similar(positive=[word],topn=n)\n",
    "        \n",
    "        for tupl in similar_list:\n",
    "            words.append(tupl[0])\n",
    "            similar_vals.append(tupl[1])\n",
    "    except:\n",
    "        #If word not in vocabulary return same word and 1 similarity-- \n",
    "        #see initialisation of words, similarities.\n",
    "        pass\n",
    "    \n",
    "    return words, similar_vals\n"
   ]
  },
  {
   "cell_type": "markdown",
   "metadata": {},
   "source": [
    "### Veamos las palabras similiares a \"alegre\""
   ]
  },
  {
   "cell_type": "code",
   "execution_count": 59,
   "metadata": {},
   "outputs": [
    {
     "data": {
      "text/plain": [
       "[('jovial', 0.6469255685806274),\n",
       " ('alegrete', 0.5918291807174683),\n",
       " ('porto', 0.5816143751144409),\n",
       " ('extrovertida', 0.576339066028595),\n",
       " ('bonita', 0.5756909847259521),\n",
       " ('apacible', 0.5749702453613281)]"
      ]
     },
     "execution_count": 59,
     "metadata": {},
     "output_type": "execute_result"
    }
   ],
   "source": [
    "#\n",
    "model.most_similar(positive=['alegre'],topn=6)"
   ]
  },
  {
   "cell_type": "markdown",
   "metadata": {},
   "source": [
    "### Veamos que tanto se parecen 2 palabras, recordar que para ver calcular Tf-idf no buscamos las palabras exactas, nos conformamos con que sea similares. Que tal un umbral de 0.5?"
   ]
  },
  {
   "cell_type": "code",
   "execution_count": 60,
   "metadata": {},
   "outputs": [
    {
     "data": {
      "text/plain": [
       "0.7731334"
      ]
     },
     "execution_count": 60,
     "metadata": {},
     "output_type": "execute_result"
    }
   ],
   "source": [
    "model.similarity('programador', 'desarrollador')"
   ]
  },
  {
   "cell_type": "code",
   "execution_count": 61,
   "metadata": {},
   "outputs": [
    {
     "data": {
      "text/plain": [
       "0.11089054"
      ]
     },
     "execution_count": 61,
     "metadata": {},
     "output_type": "execute_result"
    }
   ],
   "source": [
    "model.similarity('python', 'médico')"
   ]
  },
  {
   "cell_type": "markdown",
   "metadata": {},
   "source": [
    "### Esta función no esta siendo usada, pero se pretende incorporarla para usar más contexto"
   ]
  },
  {
   "cell_type": "code",
   "execution_count": 62,
   "metadata": {},
   "outputs": [
    {
     "name": "stdout",
     "output_type": "stream",
     "text": [
      "0.5613615\n"
     ]
    }
   ],
   "source": [
    "frase_1 = 'arquitecto'\n",
    "frase_2 = 'dibujante técnico'\n",
    "\n",
    "\n",
    "vector_sentence_1 = sent2vec(frase_1)\n",
    "vector_sentence_2 = sent2vec(frase_2)\n",
    "similitud = cosine_sim(vector_sentence_1,vector_sentence_2)\n",
    "\n",
    "print(similitud)"
   ]
  },
  {
   "cell_type": "code",
   "execution_count": 63,
   "metadata": {},
   "outputs": [
    {
     "name": "stdout",
     "output_type": "stream",
     "text": [
      "0.35082492\n"
     ]
    }
   ],
   "source": [
    "frase_1 = 'médico cirujano'\n",
    "frase_2 = 'diseñador gráfico'\n",
    "\n",
    "\n",
    "vector_sentence_1 = sent2vec(frase_1)\n",
    "vector_sentence_2 = sent2vec(frase_2)\n",
    "similitud = cosine_sim(vector_sentence_1,vector_sentence_2)\n",
    "\n",
    "print(similitud)"
   ]
  },
  {
   "cell_type": "markdown",
   "metadata": {},
   "source": [
    "### Mas ejemplos de las funciones disponibles : https://github.com/dccuchile/spanish-word-embeddings/blob/master/examples/Ejemplo_WordVectors.md"
   ]
  },
  {
   "cell_type": "markdown",
   "metadata": {},
   "source": [
    "### Tomemos una descripción de cargo. La expandimos usando 2 palabras parecidas."
   ]
  },
  {
   "cell_type": "code",
   "execution_count": 64,
   "metadata": {},
   "outputs": [
    {
     "name": "stdout",
     "output_type": "stream",
     "text": [
      "dict_keys(['ingeniería', 'ingenierías', 'ingenieria', 'máster', 'másteres', 'licenciatura', 'python', 'pythons', 'wxpython', 'javascript', 'javascriptcore', 'jscript', 'excel', 'powerpoint', 'word', 'desarrollo', 'sarrollo', 'sostenible', 'experiencia', 'experienciar', 'experienca', 'manejo', 'manejar', 'manejan', 'machine', 'machined', 'machines', 'learning', 'elearning', 'earning', 'metodologías', 'metodología', 'metodológicas', 'ágiles', 'ágil', 'veloces', 'liderar', 'encabezar', 'liderarlo', 'equipos', 'quipos', 'equipo', 'planificar', 'planear', 'planificarlas', 'organizar', 'organizarla', 'organizarlos', 'trello', 'electrónica', 'electrónico', 'electrónicas', 'carismástico', 'disruptivo', 'disruptiva', 'disruptivos'])\n"
     ]
    }
   ],
   "source": [
    "prc_description = '''ingeniería máster python javascript excel desarrollo  experiencia manejo \n",
    "machine learning metodologías ágiles liderar equipos planificar organizar trello electrónica carismástico\n",
    "disruptivo'''\n",
    "\n",
    "\n",
    "\n",
    "\n",
    "\n",
    "\n",
    "\n",
    "# Expandir descripcion\n",
    "word_value = {}\n",
    "similar_words_needed = 2\n",
    "for word in prc_description.split():\n",
    "    similar_words, similarity = get_closest(word, similar_words_needed)\n",
    "    for i in range(len(similar_words)):\n",
    "        word_value[similar_words[i]] = word_value.get(similar_words[i], 0)+similarity[i]\n",
    "print(word_value.keys())"
   ]
  },
  {
   "cell_type": "markdown",
   "metadata": {},
   "source": [
    "### Finalmente calculemos el ranking!"
   ]
  },
  {
   "cell_type": "code",
   "execution_count": 50,
   "metadata": {},
   "outputs": [
    {
     "name": "stdout",
     "output_type": "stream",
     "text": [
      "[(114.30176916853232, '1581023751928-CV'),\n",
      " (32.692554976170655, '1580320654107-CV_Gabriel_Garcia_Lorca'),\n",
      " (29.854214581523376, '1581000554896-Nabib_M_Garcia_Hirsh_CV'),\n",
      " (26.331568464703807, '1580573732905-DiegoAlbertoGutierrezBejarano'),\n",
      " (26.21576285639402, '1580913938357-CV_Gianfranco_Vela_ESP_Ene.2020'),\n",
      " (25.126289800975606, '1588283816605-CV_Erika_Sotomayor_Ulloa'),\n",
      " (24.56978526288425, '1580920711029-Kevin_SQ'),\n",
      " (24.54910063369421, '1581008153040-CV_Jose_Chávez'),\n",
      " (22.99683027924669, '1580497335052-Jose_Medina_13-1-2020'),\n",
      " (22.91269389874031, 'prueba_genoma_experiencia'),\n",
      " (22.56087837352821, '1581295975312-CV_Renzo_Salvatierra_R'),\n",
      " (21.283151716501802, '1586786838778-CV_Postulaciones'),\n",
      " (20.882010645237674, '1574824594718-Ing._Comercial_Paula_Fetis_CV'),\n",
      " (20.174430425866607, '1581631090164-CV_ROSSANA_ALAYZA_-_FEBRERO_2020'),\n",
      " (20.1036845944678, '1581954259745-CV_2020_ANTONIO_HARTMANN_R'),\n",
      " (19.968673756375846, '1583336373286-CV_Gf_Rosales_2020'),\n",
      " (19.135849466828343, '1592840847221-CV_Diego_Diaz_OK-3'),\n",
      " (18.14771929131246, '1580248761709-CV_Sergio_Soto_Valdes'),\n",
      " (17.253924452595278, '1586987553214-Felipe_Haupt_Ossa_-CV_1'),\n",
      " (16.955597807068457, '1581690552715-CV_Gustavo_Martinez_Raya'),\n",
      " (16.494501460817, '1583871756395-CVCabanaGarayChristian1_1'),\n",
      " (16.17168479152351, '1583796411230-Curriculum__fco_marzo'),\n",
      " (13.799913391559013,\n",
      "  '1580231848251-Curriculum_Vitae_-_Jesús_Alonso_Vásquez_Cole'),\n",
      " (13.241325834130551, '1581343781644-Vicente_Allel_Handal_CV_-_Ing_Comercial'),\n",
      " (13.204935860388682, '1582640494849-ANDRES_MENA_CV'),\n",
      " (12.244942619861689, '1584562197232-CV_Carolina_Sierpe_Ing._Comercial'),\n",
      " (11.777769438945828, '1584051594658-CV_Javier_Alburquerque'),\n",
      " (10.164727312033062, '1586809060281-CV_Constanza_Arredondo_Berrios'),\n",
      " (9.564579322540048, '1588728488694-CV_Fernando_Cuevas'),\n",
      " (8.948481020354727, '1586903416737-NewHTJ'),\n",
      " (8.685169815534532, '1582313013581-CV_FRF'),\n",
      " (7.342485903786205, '1589576482034-CV_Nicol_Cabrera_'),\n",
      " (7.125006202548954, '1582718980347-CV_-_Mario_Espinoza1'),\n",
      " (5.451926070179552, '1581878742461-Curriculum_Joselyn_Mari_2020_1')]\n"
     ]
    }
   ],
   "source": [
    "# /home/erwin/Genoma/cv-parser/parser/ranking.py\n",
    "\n",
    "%run -i '/home/erwin/Genoma/cv-parser/parser/ranking.py'"
   ]
  },
  {
   "cell_type": "markdown",
   "metadata": {},
   "source": [
    "### Veamos el CV del ganador"
   ]
  },
  {
   "cell_type": "code",
   "execution_count": 57,
   "metadata": {
    "scrolled": false
   },
   "outputs": [
    {
     "name": "stdout",
     "output_type": "stream",
     "text": [
      "Contactar \n",
      "56971920517 Mobile \n",
      "chris.hevia@gmail.com \n",
      "www.linkedin.com/in/christian \n",
      "heviab3902b31 LinkedIn \n",
      "Aptitudes principales \n",
      "Java \n",
      "Gestión de proyectos \n",
      "Negociación \n",
      "HonorsAwards \n",
      "1º Lugar 4to medio \n",
      "Mejor de la Carrera Informática \n",
      "Análista Programador \n",
      "Mejor de la Carrera Informática \n",
      "Ingeniería Informática \n",
      "Christian Hevia \n",
      "Director de Operaciones en Icarus Solutions \n",
      "Chile \n",
      "Extracto \n",
      "Profesional Titulado, con distinción máxima, con 6 años de \n",
      "experiencia en Jefatura de Proyectos. \n",
      "Capacitado con conocimientos en diversas áreas de la informática, \n",
      "principalmente orientado al desarrollo de software, aplicaciones de \n",
      "alto rendimiento con énfasis en la calidad del software, liderazgo \n",
      "de equipos, alto nivel de análisis y gran motivación para enfrentar \n",
      "diversos desafíos. He trabajado en importantes proyectos con \n",
      "diversas tecnologías, dentro de las cuales destacan J2ee, Jpa, \n",
      "Asp, JavaScript, Xhtml, Metodologías Ágiles, entre otras. \n",
      "Sólidos conocimientos en Gestión, Planificación, Control, \n",
      "Seguimiento, Desarrollo e Implantación de proyectos informáticos y \n",
      "también fuertes habilidades de negociación. \n",
      "Entre las principales fortalezas se pueden extraer, la motivación y \n",
      "asignación de recursos, administración de Cartas Gantt, Dirección, \n",
      "control y seguimiento de Proyectos, utilizando Metodologías \n",
      "tradicionales y ágiles, dentro de las cuales puedo destacar Scrum, \n",
      "Rup, Lean, Scope Canva, Trello, Product Discovery. \n",
      "Experiencia \n",
      "Icarus Solutions \n",
      "Director de Operaciones \n",
      "agosto de 2019  Present 7 meses \n",
      "Chile \n",
      "Somos un grupo de empresas con un equipo con más de 20 años de \n",
      "experiencia dedicadas a mejorar la gestión de nuestros clientes y potenciar \n",
      "sus negocios, entregando un servicio de excelencia con plena disposición a \n",
      "adaptarnos a sus necesidades y crear soluciones a medida. \n",
      "Page 1 of 5 \n",
      "Ícarus Solutions, empresa de soluciones del grupo, se enfoca en el desarrollo \n",
      "soluciones de tecnología y desarrollo de cursos y plataformas eLearning para \n",
      "el sector público y privado. \n",
      " Nuestros servicios se caracterizan por la constante búsqueda de la \n",
      "excelencia y permanente disposición, dinamismo y flexibilidad, lo que nos \n",
      "permite entregar un alto nivel de adaptabilidad a las necesidades de nuestros \n",
      "clientes. \n",
      " Nuestros profesionales poseen altos niveles de formación y experiencia \n",
      "internacional. \n",
      " Conformamos y lideramos equipos multidisciplinarios que nos permiten \n",
      "tener una visión integral al afrontar los diferentes desafíos en conjunto con \n",
      "nuestros clientes. \n",
      " Mantenemos una permanente visibilidad de nuestros proyectos detectando \n",
      "constantemente oportunidades de mejora. \n",
      "Santo Tomás \n",
      "Profesor de instituto \n",
      "marzo de 2017  Present 3 años \n",
      "Vergara 165, Santiago, Región Metropolitana \n",
      "Profesor de la Carrera Ingeniería de Software \n",
      "Ingenia Global \n",
      "Key Account Manager \n",
      "mayo de 2018  agosto de 2019 1 año 4 meses \n",
      "Eliodoro Yañez 2473, Providencia, Región Metropolitana \n",
      "Desarrollo de negocios, Ventas y Marketing, en distintos clientes público y \n",
      "privados en los mercados de Software, elearning, y Tecnologías Rfid. \n",
      "Algunas de las labores desarrolladas son: Gestión empresarial, reporting, \n",
      "forecast y planificación, habilidades de ventas y negociación en todos los \n",
      "niveles, analizar cifras de ventas utilizando herramientas de Crm, desarrollo \n",
      "de marketing en línea y fuera de línea Participe en eventos de la industria, \n",
      "campañas de marketing por correo electrónico, etc. \n",
      "Page 2 of 5 \n",
      "Gestiono las oportunidades públicas y privadas desde la cualificación \n",
      "hasta la adjudicación del contrato, además de participar activamente en las \n",
      "coordinaciones con las líneas de negocios, que incluyen: \n",
      " Propuesta de valor. \n",
      " Desarrollo de estrategias \n",
      " Desarrollo de soluciones. \n",
      " Consideraciones comerciales. \n",
      " Gestión de riesgos. \n",
      " Post venta. \n",
      "Catena Ingeniería y Servicios Ltda. \n",
      "Jefe de Proyectos \n",
      "agosto de 2017  abril de 2018 9 meses \n",
      "Avda. Libertador Bernardo Ohiggins 252, of 52, Santiago Centro \n",
      "Me desempeño en el cargo de Jefe de Proyectos Ti en el levantamiento de \n",
      "flujo de negocio Herramienta Bpm, BizAgi Process Modeler y levantamiento \n",
      "de requerimientos utilizando metodologìas ágiles como Scope Canvas, \n",
      "Product Discovery. Además de análisis, levantamiento de requerimientos \n",
      "de proceso de desarrollo de software bajo los estándares definidos por la \n",
      "empresa basada en metodologías tales como Scrum, Aup, Lean, Scope \n",
      "Canvas, CMMi y Pmi en la línea de Itil. \n",
      "Funciones principales: \n",
      " Asegurar la calidad de los productos y servicios desarrollados por el personal \n",
      "a su cargo. \n",
      " Administrar la relación de confianza con los clientes. \n",
      " Asegurar la implantación de los proyectos que se lidera. \n",
      " Proveer de indicadores de avance de los proyectos a su superior jerárquico, \n",
      "de acuerdo a un proceso documentado. \n",
      " Planificar, coordinar y controlar las actividades de equipos multidisciplinarios \n",
      "de trabajo de acuerdo a la metodología Scrum. \n",
      " Gestionar cuentas y traer nuevos negocios a la empresa. \n",
      "Representante de la empresa frente al cliente principalmente de Gobierno, \n",
      "tales como Cgr Contraloría General de la República, Agce Agencia de la \n",
      "Calidad de la Educación, Clc Clínica las Condes, EuroAmerica, MBienes \n",
      "Ministerio de Bienes Nacionales, Dgac Dirección General de Aeronáutica \n",
      "Civil, en cuanto a informar de seguimiento y avances de los proyectos a \n",
      "cargo. \n",
      "Red de Salud Uc Christus \n",
      "Page 3 of 5 \n",
      "Ingeniero de Software Clínico \n",
      "enero de 2017  agosto de 2017 8 meses \n",
      "Exe Ingenieria  Software \n",
      "5 años \n",
      "Jefe de Proyectos \n",
      "enero de 2013  enero de 2017 4 años 1 mes \n",
      "Huerfanos 1052 Piso 8 \n",
      " Levantamiento de flujo de negocio Herramienta Bpm, BizAgi Process \n",
      "Modeler \n",
      " levantamiento de requerimientos de proceso de desarrollo de software bajo \n",
      "los estándares definidos por la empresa basada en metodologías tales como \n",
      "Scrum, CMMi y Pmi en la línea de Itil \n",
      " Asegurar la calidad de los productos y servicios desarrollados por el personal \n",
      "a su cargo \n",
      " Administrar la relación de confianza con los clientes \n",
      " Asegurar la implantación de los proyectos que se lidera \n",
      " Proveer de indicadores de avance de los proyectos a su superior jerárquico, \n",
      "de acuerdo a un proceso documentado \n",
      " Planificar, coordinar y controlar las actividades de equipos multidisciplinarios \n",
      "de trabajo de acuerdo a la metodología Scrum. \n",
      " Representante de la empresa frente al cliente principalmente de Gobierno, \n",
      "tales como Dgac Dirección General de Aeronáutica Civil, Gendarmería, \n",
      "Afp Habitat, Universidad de Chile, Fonasa, en cuanto a informar de \n",
      "seguimiento y avances de los proyectos a cargo. \n",
      "Analista Programador \n",
      "febrero de 2012  diciembre de 2012 11 meses \n",
      "Los Leones, Providencia \n",
      " Levantamiento de Requerimiento con Cliente \n",
      " Asesoria y soporte informático \n",
      " Resolución de problemas tecnológicos entorno web \n",
      " Programación en Java, Jee, Jpa, Hibernate, Asp, Jasper Report, Richfaces, \n",
      "Jboss, PortgreSQL, MySQL, SQLServe \n",
      " Metodología ágil con equipos autogestionables \n",
      " Cubicación de requerimientos \n",
      "ingenieria e inversiones aycon limitada \n",
      "Tecnico especialista \n",
      "julio de 2009  octubre de 2011 2 años 4 meses \n",
      "Page 4 of 5 \n",
      " Soldar componentes en pcv \n",
      " Control de calidad de circuitos \n",
      " Armado de equipos electrónicos patentados por Aycon \n",
      " Dominio de Herramientas Microsoft Office \n",
      " Diseño de tarjetas electrónicas en programa Kicad \n",
      " Programación en Lenguaje c  básico \n",
      " Documentación de procedimientos \n",
      "HighService \n",
      "Técnico Especialista en Electrónica \n",
      "marzo de 2008  julio de 2009 1 año 5 meses \n",
      " Reparación de sistemas FleetSafety, SCS,Perno Sensor \n",
      " Calibraciones de equipos \n",
      " Armado de FleetSafety, SCS,Perno Sensor \n",
      " Soldadura fina en equipos electrónicos y pcv \n",
      " Puesta en marcha de Sistema FleetSafety en Minera El Tesoro \n",
      " Comisionamiento y entrega a clientes Sistema FleetSafety \n",
      "Educación \n",
      "Instituto Santo Tomas \n",
      "Ingeniería en Informática  2013  2015 \n",
      "Instituto Santo Tomás cl \n",
      "Analista Programador  2010  2012 \n",
      "Instituto Santo Tomas \n",
      "Page 5 of 5 \n",
      "\n"
     ]
    }
   ],
   "source": [
    "file_ra = '/home/erwin/Genoma/cv-parser/parser/Outputs/output_text/1581023751928-CV'\n",
    "cv_txt = open(file_ra, \"r\")\n",
    "print(cv_txt.read())"
   ]
  },
  {
   "cell_type": "markdown",
   "metadata": {},
   "source": [
    "### Veamos el peor"
   ]
  },
  {
   "cell_type": "code",
   "execution_count": 56,
   "metadata": {
    "scrolled": false
   },
   "outputs": [
    {
     "name": "stdout",
     "output_type": "stream",
     "text": [
      "Joselyn Mari Wendorff \n",
      "Dni: 72789167. 20 de Octubre de 1993. \n",
      "Calle Francisca Zubiaga 212 dpto 501  San Miguel \n",
      "Teléfonos: 961606774 \n",
      "joselynmwendorff@gmail.com \n",
      "Egresada en Aviación Comercial y actual estudiante de Marketing en Isil. Soy \n",
      "una persona con alta disposición para el trabajo, proactiva con capacidad para \n",
      "relacionarse y establecer buena comunicación así como también, trabajar bajo \n",
      "presión \n",
      "y \n",
      "en \n",
      "equipo. \n",
      "Con \n",
      "alto \n",
      "sentido \n",
      "de \n",
      "responsabilidad. \n",
      "Mi objetivo y meta profesional es formar parte de una Empresa sólida, en la \n",
      "que pueda poner en práctica los conocimientos y habilidades adquiridas. \n",
      "Educación \n",
      "Instituto San Ignacio De Loyola \n",
      "Marketing \n",
      "Iii ciclo \n",
      "Avia \n",
      "Aviación Comercial \n",
      "Especialización en Counter Avanzado \n",
      "Británico \n",
      "Ingles \n",
      "Básico  Intermedio \n",
      "Colegio Nuestra Señora De La Asuncion \n",
      "Secundaria \n",
      "Experiencia Laboral \n",
      "Bumeran.com \n",
      "Ejecutiva de ventas nuevas octubre 2019  Actualidad \n",
      " \n",
      "Mantenimiento de cartera asignada. \n",
      " \n",
      "Fidelización de clientes. \n",
      " \n",
      "Crecimiento de cartera 30. \n",
      " \n",
      "Prospección de clientes nuevos. \n",
      " \n",
      "Cumplimiento de objetivos mensuales \n",
      " \n",
      "Visitas a clientes \n",
      "Bumeran.com \n",
      "Ejecutiva de medios digitales Reemplazo \n",
      "Julio 2019  octubre 2019 \n",
      " \n",
      "Solicitud de implementación de campañas de email marketing y banners \n",
      "publicitarios \n",
      " \n",
      "Seguimiento de campañas de email marketing y banners publicitarios \n",
      " \n",
      "Entrega de reportes \n",
      " \n",
      "Coordinar reuniones de prospección y seguimiento para ofrecer productos de \n",
      "advertising \n",
      " \n",
      "Recopilación de material de campaña \n",
      " \n",
      "Contacto con agencias de publicidad y unidades de marketing de nuestros \n",
      "clientes de advertising \n",
      "Bumeran.com \n",
      "Asistente Comercial marzo 2016 a Julio 2019 \n",
      " \n",
      "Recepción y atención a clientescorporativos. \n",
      " \n",
      "Manejo de indicadores de gestión comercial. \n",
      " \n",
      "Supervisión de visitas del equipocomercial. \n",
      " \n",
      "Asignación de cuentas corporativas. \n",
      " \n",
      "Realiza análisis de mercado, del equipocomercial. \n",
      " \n",
      "Activación de bonificaciones a los clientes. \n",
      " \n",
      "Prospección de nuevos clientes. \n",
      " \n",
      "Desarrollar un plan de capacitación al equipo comercial. \n",
      " \n",
      "Mejora continua de los procesos clave de la operación \n",
      " \n",
      "Apoyo en funciones del área administrativa y de recepción. \n",
      " \n",
      "Apoyo al área de Advertinsig durante vacaciones de personal. \n",
      " \n",
      "Poder Judicial \n",
      "Asistente de Gerencia Jul 2012  Jul 2014 \n",
      " \n",
      "Recepción de documentos. \n",
      " \n",
      "Atención al cliente interna yexterna. \n",
      " \n",
      "Manejo de la agenda personal de lasjefaturas. \n",
      " \n",
      "Coordinación de eventos internos. \n",
      " \n",
      "Revisión y estado de los expedientestrabajados. \n",
      " \n",
      "Medición de indicadores deatención. \n",
      " \n",
      "Gestión de reclamos. \n",
      "Eduparques Perú Divercity \n",
      "Asistente de Operaciones Feb 2011  Jul 2011 \n",
      " \n",
      "Atención al cliente. \n",
      " \n",
      "Gestión de reclamos. \n",
      " \n",
      "Atención de cliente interno. \n",
      " \n",
      "Recepción de documentos. \n",
      "Referencias Personales \n",
      "Andrea Collado Ezcurra \n",
      "Jefa de Hunter  Bumeran.com \n",
      "Teléfono: 991  346  571 \n",
      "Freddy Kamt \n",
      "Ex Director comercial en Bumeran.com \n",
      "943  582756 \n",
      "\n"
     ]
    }
   ],
   "source": [
    "file_ra = '/home/erwin/Genoma/cv-parser/parser/Outputs/output_text/1581878742461-Curriculum_Joselyn_Mari_2020_1'\n",
    "cv_txt = open(file_ra, \"r\")\n",
    "print(cv_txt.read())"
   ]
  },
  {
   "cell_type": "markdown",
   "metadata": {},
   "source": [
    "### Que estoy haciendo ahora?\n",
    "\n",
    "* Estoy mejorando el preprocesamiento de los cv en texto. Actualmente el cv ingresa sin demasiado procesamiento, lo que quiero implementar es una limpieza de STOPWORDS y quizas lematización, pero debo investigar si conveniente o no en términos de desempeño de similitud.\n",
    "* En el cálculo de Tf-idf, estoy implementando la detección de palabras por similitud con un umbral de 0.5\n",
    "\n",
    "\n",
    "Veamos como funciona STOPWORDS y lematización:\n",
    "\n",
    "### Definamos unas funciones útiles"
   ]
  },
  {
   "cell_type": "code",
   "execution_count": 14,
   "metadata": {},
   "outputs": [],
   "source": [
    "import nltk\n",
    "from nltk import word_tokenize\n",
    "from nltk.corpus import stopwords\n",
    "from unidecode import unidecode\n",
    "import string\n",
    "import spacy\n",
    "import es_core_news_md\n",
    "\n",
    "\n",
    "def pre_process(corpus):\n",
    "    corpus = corpus.lower()\n",
    "\n",
    "    stopset = stopwords.words('spanish') + list(string.punctuation)\n",
    "\n",
    "    corpus = \" \".join([i for i in word_tokenize(corpus) if i not in stopset])\n",
    "    # remove non-ascii characters\n",
    "    #corpus = unidecode(corpus)\n",
    "    return corpus\n",
    "\n",
    "def lematizar(frase):\n",
    "    nlp = es_core_news_md.load()\n",
    "    doc = nlp(frase)\n",
    "    lemmas = [tok.lemma_.lower() for tok in doc]\n",
    "    return lemmas"
   ]
  },
  {
   "cell_type": "code",
   "execution_count": 28,
   "metadata": {},
   "outputs": [],
   "source": [
    "descripcion = '''Psicólogo o psicóloga experta en niños, especialista en trastornos del aprendizaje. \n",
    "Con amplia experiencia en educación, comprometida con el bienestar de la infancia. \n",
    "Ojalá haya sido administrativo o haya administrado\n",
    "plataformas de uso digital'''"
   ]
  },
  {
   "cell_type": "code",
   "execution_count": 29,
   "metadata": {},
   "outputs": [
    {
     "data": {
      "text/plain": [
       "'psicólogo psicóloga experta niños especialista trastornos aprendizaje amplia experiencia educación comprometida bienestar infancia ojalá sido administrativo administrado plataformas uso digital'"
      ]
     },
     "execution_count": 29,
     "metadata": {},
     "output_type": "execute_result"
    }
   ],
   "source": [
    "f = pre_process(descripcion)\n",
    "f"
   ]
  },
  {
   "cell_type": "code",
   "execution_count": 30,
   "metadata": {},
   "outputs": [
    {
     "data": {
      "text/plain": [
       "['psicólogo',\n",
       " 'psicólogo',\n",
       " 'experto',\n",
       " 'niño',\n",
       " 'especialista',\n",
       " 'trastorno',\n",
       " 'aprendizaje',\n",
       " 'amplio',\n",
       " 'experiencia',\n",
       " 'educación',\n",
       " 'comprometer',\n",
       " 'bienestar',\n",
       " 'infancia',\n",
       " 'ojalá',\n",
       " 'ser',\n",
       " 'administrativo',\n",
       " 'administrar',\n",
       " 'plataforma',\n",
       " 'usar',\n",
       " 'digital']"
      ]
     },
     "execution_count": 30,
     "metadata": {},
     "output_type": "execute_result"
    }
   ],
   "source": [
    "lematizar(f)"
   ]
  },
  {
   "cell_type": "markdown",
   "metadata": {},
   "source": [
    "### Comentarios con respecto a las stopwords: En nuestro contexto quizas seria bueno, estudiar si agregamos más stopwords tales como \"amplio\", \"ojalá\", etc"
   ]
  },
  {
   "cell_type": "markdown",
   "metadata": {},
   "source": [
    "# Qué es lo siguiente?\n",
    "\n",
    "En mi opinión la estructura de procesamiento hasta el cálculo de ranking esta completa.\n",
    "\n",
    "Pero hay trabajo que hacer:\n",
    "\n",
    "1. Limpiar el código, que pueda ser legible para alguien que no sea yo :(\n",
    "2. Afinar el procesamiento de todas las partes:\n",
    "    - El parser basado en reglas, mail - telefono - nombre - skills especificos.\n",
    "    - Seccionado más preciso. Es poco realista que el seccionado puede ser perfecto, pero si tenemos buenos resultados al seccionar en pocas partes. A mayor número de secciones, mayor imprecisión.\n",
    "    - Tratar de incorporar la similitud de frases en Tf-idf, actualmente se busca palabra por palabra.\n",
    "3. Optimizar el código: eliminación de redundancia, uso de hilos, etc.\n",
    "\n",
    "Puede que haya más trabajo que hacer, pero esto es lo que se me viene a la mente."
   ]
  },
  {
   "cell_type": "code",
   "execution_count": null,
   "metadata": {},
   "outputs": [],
   "source": []
  }
 ],
 "metadata": {
  "kernelspec": {
   "display_name": "Python [conda env:cv_parser] *",
   "language": "python",
   "name": "conda-env-cv_parser-py"
  },
  "language_info": {
   "codemirror_mode": {
    "name": "ipython",
    "version": 3
   },
   "file_extension": ".py",
   "mimetype": "text/x-python",
   "name": "python",
   "nbconvert_exporter": "python",
   "pygments_lexer": "ipython3",
   "version": "3.8.5"
  }
 },
 "nbformat": 4,
 "nbformat_minor": 4
}
