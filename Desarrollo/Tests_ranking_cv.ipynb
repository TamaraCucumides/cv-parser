{
 "cells": [
  {
   "cell_type": "code",
   "execution_count": 1,
   "metadata": {},
   "outputs": [],
   "source": [
    "import re\n",
    "import math\n",
    "import fitz\n",
    "import nltk\n",
    "from nltk.tokenize import sent_tokenize, word_tokenize\n",
    "from spacy.matcher import Matcher\n",
    "import pandas as pd\n",
    "from nltk.stem import WordNetLemmatizer\n",
    "from nltk.corpus import stopwords \n",
    "import es_core_news_sm\n",
    "from nltk.tokenize import sent_tokenize\n",
    "import os\n",
    "import spacy\n",
    "from sklearn.feature_extraction.text import CountVectorizer\n",
    "import es_core_news_sm\n",
    "import itertools\n",
    "from nltk.stem import SnowballStemmer\n",
    "import textacy\n",
    "import regex\n",
    "import json\n",
    "import unidecode\n",
    "import numpy as np\n",
    "from gensim.models.keyedvectors import KeyedVectors\n",
    "\n",
    "import yaml\n",
    "wordvectors_file_vec ='/home/erwin/Genoma/cv-parser/parser/embeddings/fasttext-sbwc.3.6.e20.vec'"
   ]
  },
  {
   "cell_type": "code",
   "execution_count": 2,
   "metadata": {},
   "outputs": [],
   "source": [
    "cantidad = 700000\n",
    "\n",
    "model = KeyedVectors.load_word2vec_format(wordvectors_file_vec, limit=cantidad)"
   ]
  },
  {
   "cell_type": "code",
   "execution_count": 3,
   "metadata": {},
   "outputs": [],
   "source": [
    "path_to_json = '/home/erwin/Genoma/cv-parser/parser/Outputs/output_seccionado'\n",
    "json_files = [pos_json for pos_json in os.listdir(path_to_json) if pos_json.endswith('.json')]\n",
    "#print(json_files)  # for me this prints ['foo.json']\n",
    "jsons = []\n",
    "for index, js in enumerate(json_files):\n",
    "    with open(os.path.join(path_to_json, js)) as json_file:\n",
    "        jsons.append(json.load(json_file))\n",
    "        \n"
   ]
  },
  {
   "cell_type": "code",
   "execution_count": 76,
   "metadata": {},
   "outputs": [
    {
     "data": {
      "text/plain": [
       "'persona proactiva , ordenar y alto sentir responsabilidad . \\n experiencia laboral \\n adecco peru \\n cargo : gerente desarrollo \\n fecha : 01/04/2019 a fecho . \\n funciones : \\n responsable manejar cartero top cliente . \\n responsable cumplimiento objetivo venta líneo negociar , garantizar \\n rentabilidad y nivel servicio \\n desarrollo convenio diverso institución . \\n implementación canal postventa cliente extranjero \\n enfoque negociar cliente extranjero y desarrollar servicio a medir \\n cliente . \\n adecco peru \\n cargo : gerente sucursal . \\n fecha : 01/01/2017 a 31/03/2019 \\n funciones : \\n responsable gestión integral sucursal \\n responsable cumplimiento objetivo venta líneo negociar , garantizar \\n rentabilidad y nivel servicio \\n desarrollo y ejecución plan negocio y venta , kpis y estrategia comercial \\n orientar a captación , mantenimiento y retención cliente \\n cargo : ejecutivo comercial . \\n fecha : 25/03/2015 31/12/2016 \\n funciones : \\n ejecutar estrategia comercial orientar a captación , mantenimiento y retención \\n cliente sucursal . \\n identificar información negocio relevante , oportunidad comercial . \\n seguimiento propuesta comercial presentar a cliente . \\n mantener comunicación estable y periódico cliente realizar visitar \\n mantenimiento . \\n seguimiento a gestión facturación y cobranza cliente . \\n elaborar propuesta comercial acorde servicio . \\n logros : premio latam a gestión comercial 2015 . \\n freno s.a . \\n cargo : coordinador inteligencia comercial \\n fecha : 01/08/2014 20/03/2015 \\n funciones : \\n supervisión fuerza ventas lima . \\n estudio mercar lanzamiento producto y mejorar portafolio \\n producto . \\n servicio postventa a distribuidor minorista . \\n bolsa valores lima : \\n cargo : ejecutivo comercial \\n fecha : 01/12/2012 31/07/2014 \\n ejecutar estrategia comercial orientar a captación , mantenimiento y retención \\n cliente . \\n identificar información negocio relevante , oportunidad comercial . \\n elaborar propuesta comercial acorde servicio . \\n logros : meta anual 2013 superar 30 \\n idiomas : ingles \\n '"
      ]
     },
     "execution_count": 76,
     "metadata": {},
     "output_type": "execute_result"
    }
   ],
   "source": [
    "jsons[0]['experiencia']"
   ]
  },
  {
   "cell_type": "code",
   "execution_count": 80,
   "metadata": {},
   "outputs": [
    {
     "data": {
      "text/plain": [
       "'persona proactiva ordenar alto sentir responsabilidad experiencia laboral adecco peru cargo gerente desarrollo fecha 01/04/2019 fecho funciones responsable manejar cartero top cliente responsable cumplimiento objetivo venta lineo negociar garantizar rentabilidad nivel servicio desarrollo convenio diverso institucion implementacion canal postventa cliente extranjero enfoque negociar cliente extranjero desarrollar servicio medir cliente adecco peru cargo gerente sucursal fecha 01/01/2017 31/03/2019 funciones responsable gestion integral sucursal responsable cumplimiento objetivo venta lineo negociar garantizar rentabilidad nivel servicio desarrollo ejecucion plan negocio venta kpis estrategia comercial orientar captacion mantenimiento retencion cliente cargo ejecutivo comercial fecha 25/03/2015 31/12/2016 funciones ejecutar estrategia comercial orientar captacion mantenimiento retencion cliente sucursal identificar informacion negocio relevante oportunidad comercial seguimiento propuesta comercial presentar cliente mantener comunicacion estable periodico cliente realizar visitar mantenimiento seguimiento gestion facturacion cobranza cliente elaborar propuesta comercial acorde servicio logros premio latam gestion comercial 2015 freno s.a cargo coordinador inteligencia comercial fecha 01/08/2014 20/03/2015 funciones supervision fuerza ventas lima estudio mercar lanzamiento producto mejorar portafolio producto servicio postventa distribuidor minorista bolsa valores lima cargo ejecutivo comercial fecha 01/12/2012 31/07/2014 ejecutar estrategia comercial orientar captacion mantenimiento retencion cliente identificar informacion negocio relevante oportunidad comercial elaborar propuesta comercial acorde servicio logros meta anual 2013 superar 30 idiomas ingles'"
      ]
     },
     "execution_count": 80,
     "metadata": {},
     "output_type": "execute_result"
    }
   ],
   "source": [
    "sent = pre_process(jsons[0]['experiencia'])\n",
    "sent"
   ]
  },
  {
   "cell_type": "code",
   "execution_count": 81,
   "metadata": {},
   "outputs": [
    {
     "name": "stdout",
     "output_type": "stream",
     "text": [
      "['personar', 'proactiva', 'ordenar', 'alto', 'sentir', 'responsabilidad', 'experiencia', 'laboral', 'adecco', 'peru', 'cargar', 'gerente', 'desarrollar', 'fecho', '01/04/2019', 'fechar', 'funcionar', 'responsable', 'manejar', 'cartero', 'top', 'cliente', 'responsable', 'cumplimiento', 'objetivar', 'venta', 'linear', 'negociar', 'garantizar', 'rentabilidad', 'nivel', 'servicio', 'desarrollar', 'convenio', 'diverso', 'institucion', 'implementacion', 'canal', 'postventa', 'cliente', 'extranjero', 'enfocar', 'negociar', 'cliente', 'extranjero', 'desarrollar', 'servicio', 'medir', 'cliente', 'adecco', 'peru', 'cargar', 'gerente', 'sucursal', 'fecho', '01/01/2017', '31/03/2019', 'funcionar', 'responsable', 'gestion', 'integral', 'sucursal', 'responsable', 'cumplimiento', 'objetivar', 'venta', 'linear', 'negociar', 'garantizar', 'rentabilidad', 'nivel', 'servicio', 'desarrollar', 'ejecucion', 'plan', 'negociar', 'venta', 'kpis', 'estrategia', 'comercial', 'orientar', 'captacion', 'mantenimiento', 'retencion', 'cliente', 'cargar', 'ejecutivo', 'comercial', 'fecho', '25/03/2015', '31/12/2016', 'funcionar', 'ejecutar', 'estrategia', 'comercial', 'orientar', 'captacion', 'mantenimiento', 'retencion', 'cliente', 'sucursal', 'identificar', 'informacion', 'negociar', 'relevante', 'oportunidad', 'comercial', 'seguimiento', 'proponer', 'comercial', 'presentar', 'cliente', 'mantener', 'comunicacion', 'estable', 'periodico', 'cliente', 'realizar', 'visitar', 'mantenimiento', 'seguimiento', 'gestion', 'facturacion', 'cobranza', 'cliente', 'elaborar', 'proponer', 'comercial', 'acorde', 'servicio', 'logro', 'premiar', 'latam', 'gestion', 'comercial', '2015', 'frenar', 's.a', 'cargar', 'coordinador', 'inteligencia', 'comercial', 'fecho', '01/08/2014', '20/03/2015', 'funcionar', 'supervision', 'forzar', 'venta', 'limar', 'estudiar', 'mercar', 'lanzamiento', 'producto', 'mejorar', 'portafolio', 'producto', 'servicio', 'postventa', 'distribuidor', 'minorista', 'bolsa', 'valorar', 'limar', 'cargar', 'ejecutivo', 'comercial', 'fecho', '01/12/2012', '31/07/2014', 'ejecutar', 'estrategia', 'comercial', 'orientar', 'captacion', 'mantenimiento', 'retencion', 'cliente', 'identificar', 'informacion', 'negociar', 'relevante', 'oportunidad', 'comercial', 'elaborar', 'proponer', 'comercial', 'acorde', 'servicio', 'logro', 'meter', 'anual', '2013', 'superar', '30', 'idioma', 'ingle']\n"
     ]
    }
   ],
   "source": [
    "sent_lem = lematizar(sent)\n",
    "print(sent_lem)"
   ]
  },
  {
   "cell_type": "code",
   "execution_count": 83,
   "metadata": {},
   "outputs": [
    {
     "data": {
      "text/plain": [
       "['ingle']"
      ]
     },
     "execution_count": 83,
     "metadata": {},
     "output_type": "execute_result"
    }
   ],
   "source": [
    "lematizar('ingles')"
   ]
  },
  {
   "cell_type": "code",
   "execution_count": 5,
   "metadata": {},
   "outputs": [],
   "source": [
    "def sent2vec(s):\n",
    "    '''Generate Vectora for sentences.'''\n",
    "    M = []\n",
    "    for w in s.split():\n",
    "        try:\n",
    "            M.append(model[w])\n",
    "        except:\n",
    "            continue\n",
    "    M = np.array(M)\n",
    "    v = M.sum(axis=0)\n",
    "    return v/np.sqrt((v**2).sum())\n",
    "\n",
    "def cosine_sim(vec1, vec2):\n",
    "    '''Return Cosine Similarity.'''\n",
    "    return  np.dot(vec1,vec2)/(np.linalg.norm(vec1)* np.linalg.norm(vec2))\n",
    "\n",
    "def get_closest(word, n):\n",
    "    '''Get n most similar words by words.'''\n",
    "    #This function can easily be expanded to get similar words to phrases--\n",
    "    #using sent2vec() method defined in WithWord2Vec notebook. \n",
    "    word = word.lower()\n",
    "    words = [word]\n",
    "    similar_vals = [1]\n",
    "    try:\n",
    "        similar_list = model.most_similar(positive=[word],topn=n)\n",
    "        \n",
    "        for tupl in similar_list:\n",
    "            words.append(tupl[0])\n",
    "            similar_vals.append(tupl[1])\n",
    "    except:\n",
    "        #If word not in vocabulary return same word and 1 similarity-- \n",
    "        #see initialisation of words, similarities.\n",
    "        pass\n",
    "    \n",
    "    return words, similar_vals"
   ]
  },
  {
   "cell_type": "code",
   "execution_count": 6,
   "metadata": {
    "tags": []
   },
   "outputs": [
    {
     "name": "stdout",
     "output_type": "stream",
     "text": [
      "0.8897964\n"
     ]
    }
   ],
   "source": [
    "frase_1 = 'software developer'\n",
    "frase_2 = 'web developer'\n",
    "\n",
    "\n",
    "vector_sentence_1 = sent2vec(frase_1)\n",
    "vector_sentence_2 = sent2vec(frase_2)\n",
    "similitud = cosine_sim(vector_sentence_1,vector_sentence_2)\n",
    "\n",
    "print(similitud)"
   ]
  },
  {
   "cell_type": "code",
   "execution_count": 55,
   "metadata": {},
   "outputs": [
    {
     "data": {
      "text/plain": [
       "(['ingle', 'pantorrilla', 'pierna', 'rodilla'],\n",
       " [1, 0.733283281326294, 0.7193220853805542, 0.7045726180076599])"
      ]
     },
     "execution_count": 55,
     "metadata": {},
     "output_type": "execute_result"
    }
   ],
   "source": [
    "get_closest(word= 'ingle', n = 3)"
   ]
  },
  {
   "cell_type": "code",
   "execution_count": 61,
   "metadata": {},
   "outputs": [
    {
     "data": {
      "text/plain": [
       "0.6669352"
      ]
     },
     "execution_count": 61,
     "metadata": {},
     "output_type": "execute_result"
    }
   ],
   "source": [
    "model.similarity('tradición', 'tradicional')"
   ]
  },
  {
   "cell_type": "code",
   "execution_count": 9,
   "metadata": {},
   "outputs": [
    {
     "data": {
      "text/plain": [
       "'educar'"
      ]
     },
     "execution_count": 9,
     "metadata": {},
     "output_type": "execute_result"
    }
   ],
   "source": [
    "import es_core_news_md\n",
    "nlp = es_core_news_md.load()\n",
    "nlp_text = nlp('educado')\n",
    "nlp_text[0].lemma_"
   ]
  },
  {
   "cell_type": "code",
   "execution_count": 21,
   "metadata": {},
   "outputs": [],
   "source": [
    "prc_description = '''ingeniería máster postgrado excel desarrollo gestión comercial experiencia manejo clientes\n",
    "emprendimiento liderar equipos planificar organizar dirigir trabajo presión seguimiento KPI inglés '''"
   ]
  },
  {
   "cell_type": "code",
   "execution_count": 22,
   "metadata": {},
   "outputs": [],
   "source": [
    "# https://github.com/prateekguptaiiitk/Resume_Filtering/blob/develop/Scoring/CV_ranking.ipynb\n",
    "word_value = {}\n",
    "similar_words_needed = 1\n",
    "for word in prc_description.split():\n",
    "    similar_words, similarity = get_closest(word, similar_words_needed)\n",
    "    for i in range(len(similar_words)):\n",
    "        word_value[similar_words[i]] = word_value.get(similar_words[i], 0)+similarity[i]\n",
    "        #print(similar_words[i], word_value[similar_words[i]])\n",
    "        #print('------------------------------------------------')"
   ]
  },
  {
   "cell_type": "code",
   "execution_count": 23,
   "metadata": {},
   "outputs": [
    {
     "data": {
      "text/plain": [
       "dict_keys(['ingeniería', 'ingenierías', 'máster', 'másteres', 'postgrado', 'postgrados', 'excel', 'edexcel', 'desarrollo', 'esarrollo', 'gestión', 'gestión0', 'comercial', 'comerciales', 'experiencia', 'experienciar', 'manejo', 'manejar', 'clientes', 'cliente', 'emprendimiento', 'emprendimientos', 'liderar', 'encabezar', 'equipos', 'bequipos', 'planificar', 'planear', 'organizar', 'organizarla', 'dirigir', 'dirigirlo', 'trabajo', 'trabajode', 'presión', 'presiones', 'seguimiento', 'proseguimiento', 'kpi', 'kpix', 'inglés', 'ingles'])"
      ]
     },
     "execution_count": 23,
     "metadata": {},
     "output_type": "execute_result"
    }
   ],
   "source": [
    "word_value.keys()"
   ]
  },
  {
   "cell_type": "code",
   "execution_count": 32,
   "metadata": {
    "scrolled": false
   },
   "outputs": [],
   "source": [
    "### ahora veamos si resulta el ranking\n",
    "#frecuencia de término – frecuencia inversa de documento \n",
    "#Tf-idf\n",
    "#Para calcular este ranking es mejor tener las secciones skills y experiencia\n",
    "#con el fin de calcular esta metrica usando la ocurrencia de las palabras\n",
    "# Tenemos todos los CV's y una descripción del cargo, a este descripcion del cargo\n",
    "# tiene N palabras, le buscamos 2 palabras parecidas, generando una descripcion\n",
    "# de N*2\n",
    "\n",
    "# Usando esta nuevo set de palabras de descripcion, recorremos todos los cvs contando \n",
    "# la ocurrencia de estas palabras en cada documento, y luego se genera un ranking usando Tf-idf\n",
    "# La pregunta es: ¿Lo haré sobre el documento entero? o ¿Trataré de seccionar y ocupar ciertas secciones?\n",
    "\n",
    "no_of_cv = len(jsons)\n",
    "#print(no_of_cv)\n",
    "\n",
    "count = {}\n",
    "idf = {}\n",
    "for word in word_value.keys():\n",
    "    count[word] = 0\n",
    "    for i in range(no_of_cv):\n",
    "        try:\n",
    "            if word in jsons[i]['skills'] or word in jsons[i]['experiencia'] or word in jsons[i]['educación']:\n",
    "                #print('entre')\n",
    "                count[word] += 1\n",
    "        except:\n",
    "            pass\n",
    "\n",
    "    idf[word] = math.log((no_of_cv+1)/(1+count[word]))\n",
    "    #print(idf)"
   ]
  },
  {
   "cell_type": "code",
   "execution_count": 24,
   "metadata": {},
   "outputs": [
    {
     "data": {
      "text/plain": [
       "2"
      ]
     },
     "execution_count": 24,
     "metadata": {},
     "output_type": "execute_result"
    }
   ],
   "source": [
    "#calculemos usando similitud\n",
    "\n",
    "\n",
    "\n",
    "def calculo_similitud(word1, array_palabras):\n",
    "    n_veces = 0\n",
    "    for word in array_palabras:\n",
    "        try:\n",
    "            sim = model.similarity(word, word1)\n",
    "            #print(word)\n",
    "            #print(sim)\n",
    "            if sim > 0.5:\n",
    "                n_veces += 1\n",
    "            else:\n",
    "                continue\n",
    "        except: #No estaba la palabra\n",
    "            pass\n",
    "        \n",
    "    return n_veces\n",
    "\n",
    "\n",
    "\n",
    "word1 = 'feliz'\n",
    "array = ['alegre', 'contento', 'taladro', 'juguete']\n",
    "\n",
    "\n",
    "\n",
    "\n",
    "n = calculo_similitud(word1, array)\n",
    "n"
   ]
  },
  {
   "cell_type": "code",
   "execution_count": 25,
   "metadata": {},
   "outputs": [
    {
     "data": {
      "text/plain": [
       "['marketing',\n",
       " 'y',\n",
       " 'gestión',\n",
       " 'comercial',\n",
       " '.',\n",
       " 'profesión',\n",
       " ':',\n",
       " 'ciencias',\n",
       " 'comunicación',\n",
       " '.']"
      ]
     },
     "execution_count": 25,
     "metadata": {},
     "output_type": "execute_result"
    }
   ],
   "source": [
    "jsons[0]['skills'].split()"
   ]
  },
  {
   "cell_type": "code",
   "execution_count": 84,
   "metadata": {
    "scrolled": true
   },
   "outputs": [],
   "source": [
    "no_of_cv = len(jsons)\n",
    "\n",
    "count = {}\n",
    "idf = {}\n",
    "for word in word_value.keys():\n",
    "    count[word] = 0\n",
    "    for i in range(no_of_cv):\n",
    "        # eliminación de stopwords y quizas lematizacion\n",
    "        skill_pro = pre_process(jsons[i]['skills']) \n",
    "        expe_pro = pre_process(jsons[i]['experiencia'])\n",
    "        edu_pro = pre_process(jsons[i]['educación'])\n",
    "        \n",
    "        if calculo_similitud(word, skill_pro.split()) or calculo_similitud(word, expe_pro.split()) or calculo_similitud(word, edu_pro.split()):\n",
    "            count[word] += 1\n",
    "\n",
    "\n",
    "    idf[word] = math.log((no_of_cv+1)/(1+count[word]))"
   ]
  },
  {
   "cell_type": "code",
   "execution_count": 85,
   "metadata": {},
   "outputs": [
    {
     "data": {
      "text/plain": [
       "{'ingeniería': 0.028170876966696224,\n",
       " 'ingenierías': 0.11778303565638346,\n",
       " 'máster': 0.0,\n",
       " 'másteres': 0.750305594399894,\n",
       " 'postgrado': 0.0,\n",
       " 'postgrados': 0.0,\n",
       " 'excel': 0.11778303565638346,\n",
       " 'edexcel': 0.32542240043462795,\n",
       " 'desarrollo': 0.44802472252696035,\n",
       " 'esarrollo': 0.5877866649021191,\n",
       " 'gestión': 0.14953173397096384,\n",
       " 'gestión0': 3.58351893845611,\n",
       " 'comercial': 0.05715841383994862,\n",
       " 'comerciales': 0.05715841383994862,\n",
       " 'experiencia': 0.05715841383994862,\n",
       " 'experienciar': 0.0,\n",
       " 'manejo': 0.49247648509779424,\n",
       " 'manejar': 0.0870113769896297,\n",
       " 'clientes': 0.216223108469636,\n",
       " 'cliente': 0.05715841383994862,\n",
       " 'emprendimiento': 0.5877866649021191,\n",
       " 'emprendimientos': 0.8754687373538999,\n",
       " 'liderar': 0.4054651081081644,\n",
       " 'encabezar': 0.4054651081081644,\n",
       " 'equipos': 0.8109302162163288,\n",
       " 'bequipos': 0.8109302162163288,\n",
       " 'planificar': 0.028170876966696224,\n",
       " 'planear': 0.44802472252696035,\n",
       " 'organizar': 0.11778303565638346,\n",
       " 'organizarla': 2.1972245773362196,\n",
       " 'dirigir': 0.1823215567939546,\n",
       " 'dirigirlo': 1.9740810260220096,\n",
       " 'trabajo': 1.5040773967762742,\n",
       " 'trabajode': 2.1972245773362196,\n",
       " 'presión': 1.3862943611198906,\n",
       " 'presiones': 3.58351893845611,\n",
       " 'seguimiento': 0.4054651081081644,\n",
       " 'proseguimiento': 0.8109302162163288,\n",
       " 'kpi': 3.58351893845611,\n",
       " 'kpix': 3.58351893845611,\n",
       " 'inglés': 0.1823215567939546,\n",
       " 'ingles': 0.14953173397096384}"
      ]
     },
     "execution_count": 85,
     "metadata": {},
     "output_type": "execute_result"
    }
   ],
   "source": [
    "idf"
   ]
  },
  {
   "cell_type": "code",
   "execution_count": 86,
   "metadata": {},
   "outputs": [
    {
     "name": "stdout",
     "output_type": "stream",
     "text": [
      "{0: 43.97371544878192, 1: 52.73172487302716, 2: 35.36620507515521, 3: 41.688982607979504, 4: 39.48633148270859, 5: 38.00915025296925, 6: 39.9777342772082, 7: 37.314091102654686, 8: 45.506216966039005, 9: 45.08451619761369, 10: 45.908539289348234, 11: 34.97730070522194, 12: 36.95168296529557, 13: 32.03832178745007, 14: 36.95168296529557, 15: 43.956014823812765, 16: 34.58002596363044, 17: 43.80869075714755, 18: 38.52989468194172, 19: 39.85822807533704, 20: 31.472878538718096, 21: 31.5324464690994, 22: 45.66416310670039, 23: 29.76748407082591, 24: 43.4906349798848, 25: 35.77484567122839, 26: 31.864255566596782, 27: 44.11202326489909, 28: 38.6379882151012, 29: 62.6011680342485, 30: 51.1153837476831, 31: 52.6805800505039, 32: 30.992867178170425, 33: 30.711236859702854, 34: 39.01069213962133}\n"
     ]
    }
   ],
   "source": [
    "\n",
    "score = {}\n",
    "for i in range(no_of_cv):\n",
    "    score[i] = 0\n",
    "    skill_pro = pre_process(jsons[i]['skills']) \n",
    "    expe_pro = pre_process(jsons[i]['experiencia'])\n",
    "    edu_pro = pre_process(jsons[i]['educación'])\n",
    "    for word in word_value.keys():\n",
    "        \n",
    "        \n",
    "        \n",
    "        tf = 1 + calculo_similitud(word, skill_pro.split()) + calculo_similitud(word, expe_pro.split()) + calculo_similitud(word, edu_pro.split())\n",
    "\n",
    "        score[i] += word_value[word]*tf*idf[word]\n",
    "\n",
    "print(score)"
   ]
  },
  {
   "cell_type": "code",
   "execution_count": 87,
   "metadata": {},
   "outputs": [],
   "source": [
    "sorted_list = []\n",
    "for i in range(no_of_cv):\n",
    "    sorted_list.append((score[i], jsons[i]['nombre archivo']))\n",
    "    \n",
    "sorted_list.sort(reverse = True)\n"
   ]
  },
  {
   "cell_type": "code",
   "execution_count": 88,
   "metadata": {},
   "outputs": [
    {
     "data": {
      "text/plain": [
       "[(62.6011680342485, '1581023751928-CV'),\n",
       " (52.73172487302716, '1580920711029-Kevin_SQ'),\n",
       " (52.6805800505039, '1580913938357-CV_Gianfranco_Vela_ESP_Ene.2020'),\n",
       " (51.1153837476831, '1581000554896-Nabib_M_Garcia_Hirsh_CV'),\n",
       " (45.908539289348234, '1582640494849-ANDRES_MENA_CV'),\n",
       " (45.66416310670039, '1581954259745-CV_2020_ANTONIO_HARTMANN_R'),\n",
       " (45.506216966039005,\n",
       "  '1580231848251-Curriculum_Vitae_-_Jesús_Alonso_Vásquez_Cole'),\n",
       " (45.08451619761369, '1580320654107-CV_Gabriel_Garcia_Lorca'),\n",
       " (44.11202326489909, '1583796411230-Curriculum__fco_marzo'),\n",
       " (43.97371544878192, '1582718980347-CV_-_Mario_Espinoza1'),\n",
       " (43.956014823812765, '1580573732905-DiegoAlbertoGutierrezBejarano'),\n",
       " (43.80869075714755, '1580497335052-Jose_Medina_13-1-2020'),\n",
       " (43.4906349798848, '1586786838778-CV_Postulaciones'),\n",
       " (41.688982607979504, '1580248761709-CV_Sergio_Soto_Valdes'),\n",
       " (39.9777342772082, '1583871756395-CVCabanaGarayChristian1_1'),\n",
       " (39.85822807533704, '1581690552715-CV_Gustavo_Martinez_Raya'),\n",
       " (39.48633148270859, '1581631090164-CV_ROSSANA_ALAYZA_-_FEBRERO_2020'),\n",
       " (39.01069213962133, '1586903416737-NewHTJ'),\n",
       " (38.6379882151012, '1582313013581-CV_FRF'),\n",
       " (38.52989468194172, '1574824594718-Ing._Comercial_Paula_Fetis_CV'),\n",
       " (38.00915025296925, '1583336373286-CV_Gf_Rosales_2020'),\n",
       " (37.314091102654686, '1586987553214-Felipe_Haupt_Ossa_-CV_1'),\n",
       " (36.95168296529557, '1586809060281-CV_Constanza_Arredondo_Berrios.'),\n",
       " (36.95168296529557, '1586809060281-CV_Constanza_Arredondo_Berrios'),\n",
       " (35.77484567122839, '1581295975312-CV_Renzo_Salvatierra_R'),\n",
       " (35.36620507515521, '1581878742461-Curriculum_Joselyn_Mari_2020_1'),\n",
       " (34.97730070522194, '1584562197232-CV_Carolina_Sierpe_Ing._Comercial'),\n",
       " (34.58002596363044, '1581008153040-CV_Jose_Chávez'),\n",
       " (32.03832178745007, '1588283816605-CV_Erika_Sotomayor_Ulloa'),\n",
       " (31.864255566596782, '1584051594658-CV_Javier_Alburquerque'),\n",
       " (31.5324464690994, '1592840847221-CV_Diego_Diaz_OK-3'),\n",
       " (31.472878538718096, '1588728488694-CV_Fernando_Cuevas'),\n",
       " (30.992867178170425, '1581343781644-Vicente_Allel_Handal_CV_-_Ing_Comercial'),\n",
       " (30.711236859702854, '1589576482034-CV_Nicol_Cabrera_'),\n",
       " (29.76748407082591, 'prueba_genoma_experiencia')]"
      ]
     },
     "execution_count": 88,
     "metadata": {},
     "output_type": "execute_result"
    }
   ],
   "source": [
    "sorted_list"
   ]
  },
  {
   "cell_type": "code",
   "execution_count": 30,
   "metadata": {},
   "outputs": [
    {
     "data": {
      "text/plain": [
       "[(56.895917679714415, '1581023751928-CV'),\n",
       " (51.02525455315362, '1580913938357-CV_Gianfranco_Vela_ESP_Ene.2020'),\n",
       " (47.478072724082836, '1580920711029-Kevin_SQ'),\n",
       " (43.6411227517698, '1581000554896-Nabib_M_Garcia_Hirsh_CV'),\n",
       " (41.918002592586824, '1581954259745-CV_2020_ANTONIO_HARTMANN_R'),\n",
       " (41.80588707391354,\n",
       "  '1580231848251-Curriculum_Vitae_-_Jesús_Alonso_Vásquez_Cole'),\n",
       " (40.02808858756349, '1580320654107-CV_Gabriel_Garcia_Lorca'),\n",
       " (39.5854724475737, '1582640494849-ANDRES_MENA_CV'),\n",
       " (39.144885334831415, '1583796411230-Curriculum__fco_marzo'),\n",
       " (39.05049701535349, '1586786838778-CV_Postulaciones'),\n",
       " (38.882645416156734, '1580497335052-Jose_Medina_13-1-2020'),\n",
       " (38.60155212906874, '1582718980347-CV_-_Mario_Espinoza1'),\n",
       " (38.18173490360104, '1580573732905-DiegoAlbertoGutierrezBejarano'),\n",
       " (35.988874430084614, '1581631090164-CV_ROSSANA_ALAYZA_-_FEBRERO_2020'),\n",
       " (35.5020855517845, '1582313013581-CV_FRF'),\n",
       " (35.161667216938, '1583871756395-CVCabanaGarayChristian1_1'),\n",
       " (35.12451481450184, '1580248761709-CV_Sergio_Soto_Valdes'),\n",
       " (34.84746504096052, '1581690552715-CV_Gustavo_Martinez_Raya'),\n",
       " (34.69770104967938, '1586987553214-Felipe_Haupt_Ossa_-CV_1'),\n",
       " (34.612554517754205, '1586903416737-NewHTJ'),\n",
       " (33.9433175217559, '1583336373286-CV_Gf_Rosales_2020'),\n",
       " (33.523338735651166, '1574824594718-Ing._Comercial_Paula_Fetis_CV'),\n",
       " (32.15405915613194, '1581878742461-Curriculum_Joselyn_Mari_2020_1'),\n",
       " (31.145699002028636, '1586809060281-CV_Constanza_Arredondo_Berrios.'),\n",
       " (31.145699002028636, '1586809060281-CV_Constanza_Arredondo_Berrios'),\n",
       " (29.63762789635532, '1584562197232-CV_Carolina_Sierpe_Ing._Comercial'),\n",
       " (28.84347568441998, '1581008153040-CV_Jose_Chávez'),\n",
       " (28.805909643712642, '1584051594658-CV_Javier_Alburquerque'),\n",
       " (28.28976820749122, '1581295975312-CV_Renzo_Salvatierra_R'),\n",
       " (28.04686983089733, '1589576482034-CV_Nicol_Cabrera_'),\n",
       " (26.66813442469195, '1592840847221-CV_Diego_Diaz_OK-3'),\n",
       " (26.148942568188343, '1588728488694-CV_Fernando_Cuevas'),\n",
       " (25.61476470216762, '1588283816605-CV_Erika_Sotomayor_Ulloa'),\n",
       " (24.68648538882259, '1581343781644-Vicente_Allel_Handal_CV_-_Ing_Comercial'),\n",
       " (23.667765797819367, 'prueba_genoma_experiencia')]"
      ]
     },
     "execution_count": 30,
     "metadata": {},
     "output_type": "execute_result"
    }
   ],
   "source": [
    "sorted_list"
   ]
  },
  {
   "cell_type": "code",
   "execution_count": null,
   "metadata": {},
   "outputs": [],
   "source": []
  },
  {
   "cell_type": "code",
   "execution_count": null,
   "metadata": {},
   "outputs": [],
   "source": []
  },
  {
   "cell_type": "code",
   "execution_count": 36,
   "metadata": {},
   "outputs": [
    {
     "data": {
      "text/plain": [
       "[(170.78559054055165, '1581023751928-CV'),\n",
       " (162.3877890384607, '1580913938357-CV_Gianfranco_Vela_ESP_Ene.2020'),\n",
       " (161.7624491017208, '1581000554896-Nabib_M_Garcia_Hirsh_CV'),\n",
       " (157.49001028683443, '1580320654107-CV_Gabriel_Garcia_Lorca'),\n",
       " (156.78137892252016,\n",
       "  '1580231848251-Curriculum_Vitae_-_Jesús_Alonso_Vásquez_Cole'),\n",
       " (156.7429043070174, '1580920711029-Kevin_SQ'),\n",
       " (155.98963492021545, '1582640494849-ANDRES_MENA_CV'),\n",
       " (155.35479610179192, '1574824594718-Ing._Comercial_Paula_Fetis_CV'),\n",
       " (155.2949426863895, '1588283816605-CV_Erika_Sotomayor_Ulloa'),\n",
       " (153.43234195022262, '1580248761709-CV_Sergio_Soto_Valdes'),\n",
       " (152.9068062113014, '1580497335052-Jose_Medina_13-1-2020'),\n",
       " (152.80730807457667, '1586987553214-Felipe_Haupt_Ossa_-CV_1'),\n",
       " (152.69372132811037, '1580573732905-DiegoAlbertoGutierrezBejarano'),\n",
       " (152.51284142364216, '1582718980347-CV_-_Mario_Espinoza1'),\n",
       " (152.3960728160635, '1581954259745-CV_2020_ANTONIO_HARTMANN_R'),\n",
       " (151.84337018481472, '1583796411230-Curriculum__fco_marzo'),\n",
       " (151.7881984969768, '1581008153040-CV_Jose_Chávez'),\n",
       " (151.56837479572334, '1581295975312-CV_Renzo_Salvatierra_R'),\n",
       " (151.0173792106442, '1582313013581-CV_FRF'),\n",
       " (150.5967624242279, 'prueba_genoma_experiencia'),\n",
       " (150.32788241602475, '1581690552715-CV_Gustavo_Martinez_Raya'),\n",
       " (150.17504508528054, '1581878742461-Curriculum_Joselyn_Mari_2020_1'),\n",
       " (149.91110289352622, '1581631090164-CV_ROSSANA_ALAYZA_-_FEBRERO_2020'),\n",
       " (149.5756100523261, '1583871756395-CVCabanaGarayChristian1_1'),\n",
       " (149.3061787315392, '1583336373286-CV_Gf_Rosales_2020'),\n",
       " (149.28175557929535, '1586809060281-CV_Constanza_Arredondo_Berrios.'),\n",
       " (149.28175557929535, '1586809060281-CV_Constanza_Arredondo_Berrios'),\n",
       " (148.5306904245495, '1586903416737-NewHTJ'),\n",
       " (148.40440411016567, '1592840847221-CV_Diego_Diaz_OK-3'),\n",
       " (148.06456384451673, '1586786838778-CV_Postulaciones'),\n",
       " (147.75587909070066, '1584562197232-CV_Carolina_Sierpe_Ing._Comercial'),\n",
       " (146.45860588838616, '1584051594658-CV_Javier_Alburquerque'),\n",
       " (145.17824961539174, '1581343781644-Vicente_Allel_Handal_CV_-_Ing_Comercial'),\n",
       " (144.75084744551071, '1588728488694-CV_Fernando_Cuevas'),\n",
       " (143.7692082540214, '1589576482034-CV_Nicol_Cabrera_')]"
      ]
     },
     "execution_count": 36,
     "metadata": {},
     "output_type": "execute_result"
    }
   ],
   "source": [
    "#sorted_list"
   ]
  },
  {
   "cell_type": "code",
   "execution_count": null,
   "metadata": {},
   "outputs": [],
   "source": []
  },
  {
   "cell_type": "code",
   "execution_count": null,
   "metadata": {},
   "outputs": [],
   "source": []
  },
  {
   "cell_type": "code",
   "execution_count": 42,
   "metadata": {},
   "outputs": [],
   "source": [
    "import nltk\n",
    "from nltk import word_tokenize\n",
    "from nltk.corpus import stopwords\n",
    "from unidecode import unidecode\n",
    "import string\n",
    "import spacy\n",
    "import es_core_news_sm\n",
    "\n",
    "\n",
    "def pre_process(corpus):\n",
    "    corpus = corpus.lower()\n",
    "\n",
    "    stopset = stopwords.words('spanish') + list(string.punctuation)\n",
    "\n",
    "    corpus = \" \".join([i for i in word_tokenize(corpus) if i not in stopset])\n",
    "    # remove non-ascii characters\n",
    "    corpus = unidecode(corpus)\n",
    "    return corpus\n",
    "\n",
    "def lematizar(frase):\n",
    "    nlp = es_core_news_sm.load()\n",
    "    doc = nlp(frase)\n",
    "    lemmas = [tok.lemma_.lower() for tok in doc]\n",
    "    return lemmas\n",
    "\n"
   ]
  },
  {
   "cell_type": "code",
   "execution_count": 51,
   "metadata": {},
   "outputs": [],
   "source": [
    "\n",
    "\n",
    "\n"
   ]
  },
  {
   "cell_type": "code",
   "execution_count": 52,
   "metadata": {},
   "outputs": [],
   "source": [
    "sent = pre_process(prc_description)\n",
    "sent_lem = lematizar(sent)"
   ]
  },
  {
   "cell_type": "code",
   "execution_count": 53,
   "metadata": {},
   "outputs": [
    {
     "data": {
      "text/plain": [
       "'ingenieria master postgrado excel desarrollo gestion comercial experiencia manejo clientes emprendimiento liderar equipos planificar organizar dirigir trabajo presion seguimiento kpi ingles'"
      ]
     },
     "execution_count": 53,
     "metadata": {},
     "output_type": "execute_result"
    }
   ],
   "source": [
    "sent"
   ]
  },
  {
   "cell_type": "code",
   "execution_count": 54,
   "metadata": {},
   "outputs": [
    {
     "data": {
      "text/plain": [
       "['ingenieria',\n",
       " 'master',\n",
       " 'postgrado',\n",
       " 'excel',\n",
       " 'desarrollar',\n",
       " 'gestion',\n",
       " 'comercial',\n",
       " 'experiencia',\n",
       " 'manejar',\n",
       " 'cliente',\n",
       " 'emprendimiento',\n",
       " 'liderar',\n",
       " 'equipo',\n",
       " 'planificar',\n",
       " 'organizar',\n",
       " 'dirigir',\n",
       " 'trabajar',\n",
       " 'presion',\n",
       " 'seguimiento',\n",
       " 'kpi',\n",
       " 'ingle']"
      ]
     },
     "execution_count": 54,
     "metadata": {},
     "output_type": "execute_result"
    }
   ],
   "source": [
    "sent_lem"
   ]
  },
  {
   "cell_type": "code",
   "execution_count": 72,
   "metadata": {},
   "outputs": [
    {
     "data": {
      "text/plain": [
       "'ingeniero puntual proactivo experiencia manejo equipos especialista redes'"
      ]
     },
     "execution_count": 72,
     "metadata": {},
     "output_type": "execute_result"
    }
   ],
   "source": [
    "sent_2 = pre_process('un ingeniero puntual proactivo con experiencia de manejo de equipos, especialista en redes')\n",
    "sent_lem_2 = lematizar(sent_2)\n",
    "sent_2"
   ]
  },
  {
   "cell_type": "code",
   "execution_count": 73,
   "metadata": {},
   "outputs": [
    {
     "data": {
      "text/plain": [
       "['ingeniero',\n",
       " 'puntual',\n",
       " 'proactivo',\n",
       " 'experiencia',\n",
       " 'manejar',\n",
       " 'equipo',\n",
       " 'especialista',\n",
       " 'redar']"
      ]
     },
     "execution_count": 73,
     "metadata": {},
     "output_type": "execute_result"
    }
   ],
   "source": [
    "sent_lem_2"
   ]
  },
  {
   "cell_type": "code",
   "execution_count": null,
   "metadata": {},
   "outputs": [],
   "source": []
  },
  {
   "cell_type": "code",
   "execution_count": 75,
   "metadata": {},
   "outputs": [
    {
     "data": {
      "text/plain": [
       "0.7584601"
      ]
     },
     "execution_count": 75,
     "metadata": {},
     "output_type": "execute_result"
    }
   ],
   "source": [
    "model.similarity('especialista', 'experto')"
   ]
  },
  {
   "cell_type": "code",
   "execution_count": 91,
   "metadata": {},
   "outputs": [
    {
     "name": "stdout",
     "output_type": "stream",
     "text": [
      "Ingeniero informático con experiencia en Java y python.\n",
      "experiencia en pytorch. Persona comprometida y responsable.\n",
      "Tendrá contacto directo con el cliente por lo que se requiere manejo de inglés.\n",
      "\n"
     ]
    }
   ],
   "source": [
    "file = '/home/erwin/Genoma/cv-parser/parser/Descripcion_cargo/descripcion_cargo'\n",
    "cv_txt = open(file, \"r\")\n",
    "print(cv_txt.read())"
   ]
  },
  {
   "cell_type": "code",
   "execution_count": 93,
   "metadata": {},
   "outputs": [],
   "source": [
    "d = cv_txt.read()"
   ]
  },
  {
   "cell_type": "code",
   "execution_count": 96,
   "metadata": {},
   "outputs": [
    {
     "data": {
      "text/plain": [
       "''"
      ]
     },
     "execution_count": 96,
     "metadata": {},
     "output_type": "execute_result"
    }
   ],
   "source": [
    "\" \".join([x.strip() for x in cv_txt]) "
   ]
  },
  {
   "cell_type": "code",
   "execution_count": 99,
   "metadata": {},
   "outputs": [],
   "source": [
    "with open(file) as f:\n",
    "  descripcion = \" \".join([x.strip() for x in f]) "
   ]
  },
  {
   "cell_type": "code",
   "execution_count": 100,
   "metadata": {},
   "outputs": [
    {
     "data": {
      "text/plain": [
       "'Ingeniero informático con experiencia en Java y python. experiencia en pytorch. Persona comprometida y responsable. Tendrá contacto directo con el cliente por lo que se requiere manejo de inglés.'"
      ]
     },
     "execution_count": 100,
     "metadata": {},
     "output_type": "execute_result"
    }
   ],
   "source": [
    "descripcion"
   ]
  },
  {
   "cell_type": "code",
   "execution_count": 95,
   "metadata": {},
   "outputs": [
    {
     "data": {
      "text/plain": [
       "<_io.TextIOWrapper name='/home/erwin/Genoma/cv-parser/parser/Descripcion_cargo/descripcion_cargo' mode='r' encoding='UTF-8'>"
      ]
     },
     "execution_count": 95,
     "metadata": {},
     "output_type": "execute_result"
    }
   ],
   "source": [
    "cv_txt"
   ]
  },
  {
   "cell_type": "code",
   "execution_count": null,
   "metadata": {},
   "outputs": [],
   "source": []
  }
 ],
 "metadata": {
  "jupytext": {
   "formats": "ipynb,md"
  },
  "kernelspec": {
   "display_name": "Python [conda env:cv_parser] *",
   "language": "python",
   "name": "conda-env-cv_parser-py"
  },
  "language_info": {
   "codemirror_mode": {
    "name": "ipython",
    "version": 3
   },
   "file_extension": ".py",
   "mimetype": "text/x-python",
   "name": "python",
   "nbconvert_exporter": "python",
   "pygments_lexer": "ipython3",
   "version": "3.8.5"
  }
 },
 "nbformat": 4,
 "nbformat_minor": 4
}
