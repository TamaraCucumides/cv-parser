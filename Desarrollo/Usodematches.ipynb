{
 "cells": [
  {
   "cell_type": "code",
   "execution_count": 1,
   "metadata": {},
   "outputs": [],
   "source": [
    "import spacy\n",
    "from spacy.matcher import Matcher\n",
    "import es_core_news_sm\n",
    "\n",
    "nlp = es_core_news_sm.load()\n"
   ]
  },
  {
   "cell_type": "code",
   "execution_count": 2,
   "metadata": {},
   "outputs": [
    {
     "name": "stdout",
     "output_type": "stream",
     "text": [
      "hello\n",
      "hello\n",
      "hello\n"
     ]
    }
   ],
   "source": [
    "matcher = Matcher(nlp.vocab)\n",
    "# Add match ID \"HelloWorld\" with no callback and one pattern\n",
    "pattern = [{\"LOWER\": \"hello\"}]\n",
    "matcher.add(\"HelloWorld\", None, pattern)\n",
    "sen= \"Hello, world! Hello world!, HELLO @2\".lower()\n",
    "doc = nlp(sen)\n",
    "matches = matcher(doc)\n",
    "for match_id, start, end in matches:\n",
    "    string_id = nlp.vocab.strings[match_id]  # Get string representation\n",
    "    span = doc[start:end]  # The matched span\n",
    "    #print(match_id, string_id, start, end, span.text)\n",
    "    print(span.text)"
   ]
  },
  {
   "cell_type": "code",
   "execution_count": 3,
   "metadata": {},
   "outputs": [
    {
     "name": "stdout",
     "output_type": "stream",
     "text": [
      "barack obama\n",
      "washington, d.c.\n",
      "machine learning\n"
     ]
    }
   ],
   "source": [
    "from spacy.matcher import PhraseMatcher\n",
    "\n",
    "\n",
    "matcher = PhraseMatcher(nlp.vocab)\n",
    "terms = [\"Barack Obama\", \"Machine learning\", \"Washington, D.C.\"]\n",
    "# Only run nlp.make_doc to speed things up\n",
    "patterns = [nlp.make_doc(text.lower()) for text in terms]\n",
    "matcher.add(\"TerminologyList\", None, *patterns)\n",
    "\n",
    "text = \"German Chancellor Angela Merkel and excel US President Barack Obama converse in the Oval Office inside the White House in Washington, D.C. machine learning\"\n",
    "doc = nlp(text.lower())\n",
    "matches = matcher(doc)\n",
    "for match_id, start, end in matches:\n",
    "    span = doc[start:end]\n",
    "    print(span.text)"
   ]
  },
  {
   "cell_type": "code",
   "execution_count": 25,
   "metadata": {},
   "outputs": [],
   "source": [
    "text = 'Estaba corrriendo corrido gestionar correr liderado liderar liderazgo'\n",
    "matcher = Matcher(nlp.vocab)\n",
    "pattern = [{'LEMMA': 'lider'}]\n",
    "matcher.add('edu', None, pattern)\n",
    "doc = nlp(text)\n",
    "matches = matcher(doc)\n",
    "for match_id, start, end in matches:\n",
    "    #string_id = nlp.vocab.strings[match_id]  # Get string representation\n",
    "    span = doc[start:end]  # The matched span\n",
    "    print(span.text)"
   ]
  },
  {
   "cell_type": "code",
   "execution_count": null,
   "metadata": {},
   "outputs": [],
   "source": []
  },
  {
   "cell_type": "code",
   "execution_count": 55,
   "metadata": {},
   "outputs": [
    {
     "name": "stdout",
     "output_type": "stream",
     "text": [
      "MATCH_INFO: 15298788076101934575 USE_LEMMA 0 1 correr\n",
      "MATCH_INFO: 15298788076101934575 USE_LEMMA 1 2 comunicado\n",
      "MATCH_INFO: 15298788076101934575 USE_LEMMA 2 3 correr\n",
      "MATCH_INFO: 15298788076101934575 USE_LEMMA 8 9 lider\n"
     ]
    }
   ],
   "source": [
    "import spacy\n",
    "from spacy.matcher import PhraseMatcher\n",
    "\n",
    "words_match = []\n",
    "def add_patterns_to_phrasematcher(nlp, term_list, attr='LEMMA'):\n",
    "\n",
    "    if attr is None:\n",
    "        nlp = es_core_news_sm.load()\n",
    "\n",
    "    matcher = PhraseMatcher(nlp.vocab, attr = attr, validate=True)\n",
    "\n",
    "    # If default PhraseMatcher (i.e., attr='ORTH')\n",
    "    if attr is None:\n",
    "        term_patterns_list = [nlp.make_doc(term) for term in term_list]\n",
    "\n",
    "    # If attribute is specified\n",
    "    else:\n",
    "        term_patterns_list = [nlp(term) for term in term_list]\n",
    "\n",
    "    # Add term patterns in list to PhraseMatcher\n",
    "    term_label = 'USE_' + str(attr)\n",
    "    matcher.add(term_label, None, *term_patterns_list)\n",
    "\n",
    "    return matcher\n",
    "\n",
    "\n",
    "def print_matches(matches):\n",
    "    for match_id, start, end in matches:\n",
    "        label = nlp.vocab.strings[match_id]\n",
    "        span = doc[start:end]\n",
    "        words_match.append(span.text.upper())\n",
    "        print('MATCH_INFO:', match_id, label, start, end, span.text)\n",
    "\n",
    "\n",
    "nlp = es_core_news_sm.load()\n",
    "\n",
    "voc = ['lider', 'correr', 'comunicar']\n",
    "text = \"correr comunicado correr hola como liderado oye liderar lider liderado\"\n",
    "\n",
    "lemma_matcher = add_patterns_to_phrasematcher(nlp, voc, attr='LEMMA')\n",
    "text_matcher = add_patterns_to_phrasematcher(nlp, voc)\n",
    "\n",
    "doc = nlp(text)\n",
    "\n",
    "print_matches(lemma_matcher(doc))\n",
    "#print_matches(text_matcher(doc))"
   ]
  },
  {
   "cell_type": "code",
   "execution_count": 56,
   "metadata": {},
   "outputs": [
    {
     "data": {
      "text/plain": [
       "['CORRER', 'COMUNICADO', 'CORRER', 'LIDER']"
      ]
     },
     "execution_count": 56,
     "metadata": {},
     "output_type": "execute_result"
    }
   ],
   "source": [
    "words_match"
   ]
  },
  {
   "cell_type": "code",
   "execution_count": 61,
   "metadata": {},
   "outputs": [
    {
     "data": {
      "text/plain": [
       "['lider', 'correr', 'comunicar']"
      ]
     },
     "execution_count": 61,
     "metadata": {},
     "output_type": "execute_result"
    }
   ],
   "source": [
    "doc = nlp(\" \".join(words_match).lower())\n",
    "le = []\n",
    "for token in doc:\n",
    "     le.append(token.lemma_)\n",
    "list(set(le))"
   ]
  },
  {
   "cell_type": "code",
   "execution_count": null,
   "metadata": {},
   "outputs": [],
   "source": []
  }
 ],
 "metadata": {
  "kernelspec": {
   "display_name": "Python [conda env:cv_parser] *",
   "language": "python",
   "name": "conda-env-cv_parser-py"
  },
  "language_info": {
   "codemirror_mode": {
    "name": "ipython",
    "version": 3
   },
   "file_extension": ".py",
   "mimetype": "text/x-python",
   "name": "python",
   "nbconvert_exporter": "python",
   "pygments_lexer": "ipython3",
   "version": "3.8.5"
  }
 },
 "nbformat": 4,
 "nbformat_minor": 4
}
